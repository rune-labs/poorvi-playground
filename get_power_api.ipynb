{
 "cells": [
  {
   "cell_type": "markdown",
   "id": "10d58026",
   "metadata": {},
   "source": [
    "# This is the how you can pull data from the API"
   ]
  },
  {
   "cell_type": "markdown",
   "id": "0972f86c",
   "metadata": {},
   "source": [
    "Make sure that you're staging/production credentials `yaml` is structured like so:\n",
    "\n",
    "```\n",
    "access_token_id: API_TOKEN_ID\n",
    "access_token_secret: API_TOKEN_SECRET\n",
    "```"
   ]
  },
  {
   "cell_type": "code",
   "execution_count": 11,
   "id": "013348e4",
   "metadata": {},
   "outputs": [],
   "source": [
    "import datetime as dt\n",
    "import io\n",
    "import json\n",
    "import jsbeautifier\n",
    "import matplotlib.pyplot as plt\n",
    "import os\n",
    "import pandas as pd\n",
    "import requests\n",
    "from runeq import Config, stream\n",
    "from scipy import stats\n",
    "import yaml\n",
    "from IPython.display import display, Markdown\n",
    "from IPython.core import display as ICD"
   ]
  },
  {
   "cell_type": "code",
   "execution_count": 12,
   "id": "57016194",
   "metadata": {},
   "outputs": [],
   "source": [
    "def run_test_requests(\n",
    "    params: dict, \n",
    "    headers, \n",
    "    endpoint, \n",
    "    field_name, \n",
    "    env='staging', \n",
    "    extra=True\n",
    "):\n",
    "    \"\"\"\n",
    "    Run a full suite of tests.\n",
    "    params\n",
    "        params for the request\n",
    "    headers:\n",
    "        client / user credentials\n",
    "    endpoint:\n",
    "        name of endpoint that you are querying from e.g. band_power, probability_symptom\n",
    "    field_name\n",
    "        name of the measurement e.g. power, probability\n",
    "    env\n",
    "        staging, production, or local\n",
    "    extra\n",
    "        runs tests for extra querying expressions e.g. first, last, mean, median\n",
    "    \"\"\"\n",
    "    \n",
    "    if env=='local':\n",
    "        json_url = f'http://localhost:8080/v1/{endpoint}.csv'\n",
    "        json_url = f'http://localhost:8080/v1/{endpoint}.json'\n",
    "\n",
    "    elif env=='staging':\n",
    "        json_url = f'https://stream-staging.runelabs.io/v1/{endpoint}.json'\n",
    "        csv_url = f'https://stream-staging.runelabs.io/v1/{endpoint}.csv'\n",
    "\n",
    "    elif env=='prod':\n",
    "        json_url = f'https://stream.runelabs.io/v1/{endpoint}.json'\n",
    "        csv_url = f'https://stream.runelabs.io/v1/{endpoint}.csv'\n",
    "    else:\n",
    "        raise ValueError('Unknown envinrontment')\n",
    "\n",
    "    display(Markdown('#### JSON'))\n",
    "    json_params = params\n",
    "    availability_params = json_params | {'expression': f'availability({field_name})'}\n",
    "    response = requests.get(json_url, params=json_params, headers=headers)\n",
    "    availability_response = requests.get(json_url, params=availability_params, headers=headers)\n",
    "    display(Markdown(f'##### {field_name}:'))\n",
    "    ppjson(response.json())\n",
    "    display(Markdown(f'##### availability({field_name}):'))\n",
    "    ppjson(availability_response.json())\n",
    "\n",
    "    if extra:\n",
    "        for exp in ['first', 'mean', 'median', 'last']:\n",
    "            exp_params = json_params | {'expression': f'{exp}({field_name})'}\n",
    "            resp = requests.get(json_url, params=exp_params, headers=headers)\n",
    "            display(Markdown(f'##### {exp}({field_name}):'))\n",
    "            ppjson(resp.json())\n",
    "\n",
    "    csv_params = {k:v for k,v in json_params.items() if k != 'partition_size'}\n",
    "    availability_csv_params = csv_params | {'expression': f'availability({field_name})'}\n",
    "    response = requests.get(csv_url, params=csv_params, headers=headers)\n",
    "    availability_response = requests.get(\n",
    "        csv_url, params=availability_csv_params, headers=headers)\n",
    "    \n",
    "    display(Markdown('#### CSV'))\n",
    "    display(Markdown(f'##### {field_name}:'))\n",
    "    ppcsv(response=response)\n",
    "    display(Markdown(f'##### availability({field_name}):'))\n",
    "    ppcsv(response=availability_response)\n",
    "\n",
    "\n",
    "    if extra:\n",
    "        for exp in ['first', 'mean', 'median', 'last']:\n",
    "            exp_params = csv_params | {'expression': f'{exp}({field_name})'}\n",
    "            resp = requests.get(csv_url, params=exp_params, headers=headers)\n",
    "            display(Markdown(f'##### {exp}({field_name}):'))\n",
    "            ppcsv(response=resp)"
   ]
  },
  {
   "cell_type": "code",
   "execution_count": 18,
   "id": "fc908cbf",
   "metadata": {},
   "outputs": [],
   "source": [
    "opts = jsbeautifier.default_options()\n",
    "opts.indent_size = 4\n",
    "\n",
    "def ppjson(*args):\n",
    "    \"\"\"\n",
    "    Pretty prints JSON so that long array are printed on one line\n",
    "    \"\"\"\n",
    "    new_args = []\n",
    "    for i, arg in enumerate(args):\n",
    "        if type(arg) == dict:\n",
    "            arg = jsbeautifier.beautify(json.dumps(arg), opts)\n",
    "        new_args.append(arg)\n",
    "    print(*new_args)\n",
    "    print('\\n')"
   ]
  },
  {
   "cell_type": "code",
   "execution_count": 14,
   "id": "86adf163",
   "metadata": {
    "scrolled": false
   },
   "outputs": [],
   "source": [
    "def ppcsv(*args, response):\n",
    "    \"\"\"\n",
    "    Prints CSV in a dataframe format\n",
    "    \"\"\"\n",
    "    print(*args)\n",
    "    df = pd.read_csv(io.StringIO(response.text))\n",
    "    display(df)\n",
    "    print('\\n')"
   ]
  },
  {
   "cell_type": "markdown",
   "id": "1c67b9d6",
   "metadata": {},
   "source": [
    "## Local"
   ]
  },
  {
   "cell_type": "markdown",
   "id": "7539c67f",
   "metadata": {},
   "source": [
    "#### v1/event.json"
   ]
  },
  {
   "cell_type": "code",
   "execution_count": null,
   "id": "4d5d2d4c",
   "metadata": {},
   "outputs": [],
   "source": [
    "params = {\n",
    "    'patient_id': 'dangerzonepatient', \n",
    "    'start_time': '1567566520',\n",
    "    'end_time': '1567566530',\n",
    "    'device_id': 'kp0ArnOK', #fake_percept\n",
    "    'event': 'clinical'\n",
    "}\n",
    "response = requests.get('http://localhost:8080/v1/event.json', params=params)"
   ]
  },
  {
   "cell_type": "markdown",
   "id": "3abff324",
   "metadata": {},
   "source": [
    "## Staging"
   ]
  },
  {
   "cell_type": "code",
   "execution_count": null,
   "id": "409cd7be",
   "metadata": {},
   "outputs": [],
   "source": [
    "config_path = '/Users/poorv/.rune/api-config-staging.yaml'\n",
    "with open(config_path) as f:\n",
    "    credentials = yaml.safe_load(f)\n",
    "    \n",
    "headers = {\n",
    "    'X-Rune-User-Access-Token-Id': credentials['access_token_id'],\n",
    "    'X-Rune-User-Access-Token-Secret': credentials['access_token_secret']\n",
    "}"
   ]
  },
  {
   "cell_type": "markdown",
   "id": "47004ab7",
   "metadata": {},
   "source": [
    "#### v1/accel"
   ]
  },
  {
   "cell_type": "code",
   "execution_count": 252,
   "id": "7164dc0f",
   "metadata": {
    "scrolled": false
   },
   "outputs": [
    {
     "data": {
      "text/markdown": [
       "#### JSON"
      ],
      "text/plain": [
       "<IPython.core.display.Markdown object>"
      ]
     },
     "metadata": {},
     "output_type": "display_data"
    },
    {
     "data": {
      "text/markdown": [
       "##### accel:"
      ],
      "text/plain": [
       "<IPython.core.display.Markdown object>"
      ]
     },
     "metadata": {},
     "output_type": "display_data"
    },
    {
     "name": "stdout",
     "output_type": "stream",
     "text": [
      "{\n",
      "  \"result\": {\n",
      "    \"cardinality\": 4,\n",
      "    \"time\": [1626126000, 1626132000, 1626138000, 1626144000],\n",
      "    \"x\": [-0.6352692246437073, 0.11776725947856903, -0.04504386708140373, -0.5210418701171875],\n",
      "    \"y\": [0.2354431450366974, 1.0323182344436646, 0.4831390678882599, 0.6363219618797302],\n",
      "    \"z\": [-0.7210692763328552, 0.12341313064098358, -0.8650969862937927, -0.1139983981847763]\n",
      "  },\n",
      "  \"success\": true\n",
      "}\n",
      "\n",
      "\n"
     ]
    },
    {
     "data": {
      "text/markdown": [
       "##### availability(accel):"
      ],
      "text/plain": [
       "<IPython.core.display.Markdown object>"
      ]
     },
     "metadata": {},
     "output_type": "display_data"
    },
    {
     "name": "stdout",
     "output_type": "stream",
     "text": [
      "{\n",
      "  \"result\": {\n",
      "    \"availability(accel)\": [1, 1, 1, 1],\n",
      "    \"cardinality\": 4,\n",
      "    \"time\": [1626126000, 1626132000, 1626138000, 1626144000]\n",
      "  },\n",
      "  \"success\": true\n",
      "}\n",
      "\n",
      "\n"
     ]
    },
    {
     "data": {
      "text/markdown": [
       "##### first(accel):"
      ],
      "text/plain": [
       "<IPython.core.display.Markdown object>"
      ]
     },
     "metadata": {},
     "output_type": "display_data"
    },
    {
     "name": "stdout",
     "output_type": "stream",
     "text": [
      "{\n",
      "  \"result\": {\n",
      "    \"cardinality\": 4,\n",
      "    \"time\": [1626126000, 1626132000, 1626138000, 1626144000],\n",
      "    \"x\": [-0.6352692246437073, 0.11776725947856903, -0.04504386708140373, -0.5210418701171875],\n",
      "    \"y\": [0.2354431450366974, 1.0323182344436646, 0.4831390678882599, 0.6363219618797302],\n",
      "    \"z\": [-0.7210692763328552, 0.12341313064098358, -0.8650969862937927, -0.1139983981847763]\n",
      "  },\n",
      "  \"success\": true\n",
      "}\n",
      "\n",
      "\n"
     ]
    },
    {
     "data": {
      "text/markdown": [
       "##### mean(accel):"
      ],
      "text/plain": [
       "<IPython.core.display.Markdown object>"
      ]
     },
     "metadata": {},
     "output_type": "display_data"
    },
    {
     "name": "stdout",
     "output_type": "stream",
     "text": [
      "{\n",
      "  \"result\": {\n",
      "    \"cardinality\": 4,\n",
      "    \"time\": [1626126000, 1626132000, 1626138000, 1626144000],\n",
      "    \"x\": [0.10436013272610205, 0.3620813859222072, 0.11906459814935871, -0.002121317670423799],\n",
      "    \"y\": [0.5650245982921615, 0.5792278084266329, 0.5533469481901504, 0.5790462968260683],\n",
      "    \"z\": [-0.0053037168434479426, -0.1110470964492736, -0.25487837536656094, -0.10629003152242059]\n",
      "  },\n",
      "  \"success\": true\n",
      "}\n",
      "\n",
      "\n"
     ]
    },
    {
     "data": {
      "text/markdown": [
       "##### median(accel):"
      ],
      "text/plain": [
       "<IPython.core.display.Markdown object>"
      ]
     },
     "metadata": {},
     "output_type": "display_data"
    },
    {
     "name": "stdout",
     "output_type": "stream",
     "text": [
      "{\n",
      "  \"result\": {\n",
      "    \"cardinality\": 4,\n",
      "    \"time\": [1626126000, 1626132000, 1626138000, 1626144000],\n",
      "    \"x\": [-0.027790135703980923, 0.3450814113020897, 0.03513547033071518, -0.033143213018774986],\n",
      "    \"y\": [0.5193381905555725, 0.5898779481649399, 0.6940972805023193, 0.7077281177043915],\n",
      "    \"z\": [-0.04432694800198078, -0.14331799000501633, -0.31392616033554077, -0.17338377982378006]\n",
      "  },\n",
      "  \"success\": true\n",
      "}\n",
      "\n",
      "\n"
     ]
    },
    {
     "data": {
      "text/markdown": [
       "##### last(accel):"
      ],
      "text/plain": [
       "<IPython.core.display.Markdown object>"
      ]
     },
     "metadata": {},
     "output_type": "display_data"
    },
    {
     "name": "stdout",
     "output_type": "stream",
     "text": [
      "{\n",
      "  \"result\": {\n",
      "    \"cardinality\": 4,\n",
      "    \"time\": [1626126000, 1626132000, 1626138000, 1626144000],\n",
      "    \"x\": [0.05422970652580261, -0.062164243310689926, -0.5176697373390198, 0.05531317740678787],\n",
      "    \"y\": [0.9506837129592896, 0.4813995957374573, 0.5871428847312927, -0.2262878119945526],\n",
      "    \"z\": [0.06051638722419739, -0.8540191650390625, -0.1164550706744194, -0.9775390625]\n",
      "  },\n",
      "  \"success\": true\n",
      "}\n",
      "\n",
      "\n"
     ]
    },
    {
     "data": {
      "text/markdown": [
       "#### CSV"
      ],
      "text/plain": [
       "<IPython.core.display.Markdown object>"
      ]
     },
     "metadata": {},
     "output_type": "display_data"
    },
    {
     "data": {
      "text/markdown": [
       "##### accel:"
      ],
      "text/plain": [
       "<IPython.core.display.Markdown object>"
      ]
     },
     "metadata": {},
     "output_type": "display_data"
    },
    {
     "name": "stdout",
     "output_type": "stream",
     "text": [
      "\n"
     ]
    },
    {
     "data": {
      "text/html": [
       "<div>\n",
       "<style scoped>\n",
       "    .dataframe tbody tr th:only-of-type {\n",
       "        vertical-align: middle;\n",
       "    }\n",
       "\n",
       "    .dataframe tbody tr th {\n",
       "        vertical-align: top;\n",
       "    }\n",
       "\n",
       "    .dataframe thead th {\n",
       "        text-align: right;\n",
       "    }\n",
       "</style>\n",
       "<table border=\"1\" class=\"dataframe\">\n",
       "  <thead>\n",
       "    <tr style=\"text-align: right;\">\n",
       "      <th></th>\n",
       "      <th>time</th>\n",
       "      <th>x</th>\n",
       "      <th>y</th>\n",
       "      <th>z</th>\n",
       "    </tr>\n",
       "  </thead>\n",
       "  <tbody>\n",
       "    <tr>\n",
       "      <th>0</th>\n",
       "      <td>1.626126e+09</td>\n",
       "      <td>-0.635269</td>\n",
       "      <td>0.235443</td>\n",
       "      <td>-0.721069</td>\n",
       "    </tr>\n",
       "    <tr>\n",
       "      <th>1</th>\n",
       "      <td>1.626132e+09</td>\n",
       "      <td>0.117767</td>\n",
       "      <td>1.032318</td>\n",
       "      <td>0.123413</td>\n",
       "    </tr>\n",
       "    <tr>\n",
       "      <th>2</th>\n",
       "      <td>1.626138e+09</td>\n",
       "      <td>-0.045044</td>\n",
       "      <td>0.483139</td>\n",
       "      <td>-0.865097</td>\n",
       "    </tr>\n",
       "    <tr>\n",
       "      <th>3</th>\n",
       "      <td>1.626144e+09</td>\n",
       "      <td>-0.521042</td>\n",
       "      <td>0.636322</td>\n",
       "      <td>-0.113998</td>\n",
       "    </tr>\n",
       "  </tbody>\n",
       "</table>\n",
       "</div>"
      ],
      "text/plain": [
       "           time         x         y         z\n",
       "0  1.626126e+09 -0.635269  0.235443 -0.721069\n",
       "1  1.626132e+09  0.117767  1.032318  0.123413\n",
       "2  1.626138e+09 -0.045044  0.483139 -0.865097\n",
       "3  1.626144e+09 -0.521042  0.636322 -0.113998"
      ]
     },
     "metadata": {},
     "output_type": "display_data"
    },
    {
     "name": "stdout",
     "output_type": "stream",
     "text": [
      "\n",
      "\n"
     ]
    },
    {
     "data": {
      "text/markdown": [
       "##### availability(accel):"
      ],
      "text/plain": [
       "<IPython.core.display.Markdown object>"
      ]
     },
     "metadata": {},
     "output_type": "display_data"
    },
    {
     "name": "stdout",
     "output_type": "stream",
     "text": [
      "\n"
     ]
    },
    {
     "data": {
      "text/html": [
       "<div>\n",
       "<style scoped>\n",
       "    .dataframe tbody tr th:only-of-type {\n",
       "        vertical-align: middle;\n",
       "    }\n",
       "\n",
       "    .dataframe tbody tr th {\n",
       "        vertical-align: top;\n",
       "    }\n",
       "\n",
       "    .dataframe thead th {\n",
       "        text-align: right;\n",
       "    }\n",
       "</style>\n",
       "<table border=\"1\" class=\"dataframe\">\n",
       "  <thead>\n",
       "    <tr style=\"text-align: right;\">\n",
       "      <th></th>\n",
       "      <th>time</th>\n",
       "      <th>availability</th>\n",
       "    </tr>\n",
       "  </thead>\n",
       "  <tbody>\n",
       "    <tr>\n",
       "      <th>0</th>\n",
       "      <td>1.626126e+09</td>\n",
       "      <td>1</td>\n",
       "    </tr>\n",
       "    <tr>\n",
       "      <th>1</th>\n",
       "      <td>1.626132e+09</td>\n",
       "      <td>1</td>\n",
       "    </tr>\n",
       "    <tr>\n",
       "      <th>2</th>\n",
       "      <td>1.626138e+09</td>\n",
       "      <td>1</td>\n",
       "    </tr>\n",
       "    <tr>\n",
       "      <th>3</th>\n",
       "      <td>1.626144e+09</td>\n",
       "      <td>1</td>\n",
       "    </tr>\n",
       "  </tbody>\n",
       "</table>\n",
       "</div>"
      ],
      "text/plain": [
       "           time  availability\n",
       "0  1.626126e+09             1\n",
       "1  1.626132e+09             1\n",
       "2  1.626138e+09             1\n",
       "3  1.626144e+09             1"
      ]
     },
     "metadata": {},
     "output_type": "display_data"
    },
    {
     "name": "stdout",
     "output_type": "stream",
     "text": [
      "\n",
      "\n"
     ]
    },
    {
     "data": {
      "text/markdown": [
       "##### first(accel):"
      ],
      "text/plain": [
       "<IPython.core.display.Markdown object>"
      ]
     },
     "metadata": {},
     "output_type": "display_data"
    },
    {
     "name": "stdout",
     "output_type": "stream",
     "text": [
      "\n"
     ]
    },
    {
     "data": {
      "text/html": [
       "<div>\n",
       "<style scoped>\n",
       "    .dataframe tbody tr th:only-of-type {\n",
       "        vertical-align: middle;\n",
       "    }\n",
       "\n",
       "    .dataframe tbody tr th {\n",
       "        vertical-align: top;\n",
       "    }\n",
       "\n",
       "    .dataframe thead th {\n",
       "        text-align: right;\n",
       "    }\n",
       "</style>\n",
       "<table border=\"1\" class=\"dataframe\">\n",
       "  <thead>\n",
       "    <tr style=\"text-align: right;\">\n",
       "      <th></th>\n",
       "      <th>time</th>\n",
       "      <th>x</th>\n",
       "      <th>y</th>\n",
       "      <th>z</th>\n",
       "    </tr>\n",
       "  </thead>\n",
       "  <tbody>\n",
       "    <tr>\n",
       "      <th>0</th>\n",
       "      <td>1.626126e+09</td>\n",
       "      <td>-0.635269</td>\n",
       "      <td>0.235443</td>\n",
       "      <td>-0.721069</td>\n",
       "    </tr>\n",
       "    <tr>\n",
       "      <th>1</th>\n",
       "      <td>1.626132e+09</td>\n",
       "      <td>0.117767</td>\n",
       "      <td>1.032318</td>\n",
       "      <td>0.123413</td>\n",
       "    </tr>\n",
       "    <tr>\n",
       "      <th>2</th>\n",
       "      <td>1.626138e+09</td>\n",
       "      <td>-0.045044</td>\n",
       "      <td>0.483139</td>\n",
       "      <td>-0.865097</td>\n",
       "    </tr>\n",
       "    <tr>\n",
       "      <th>3</th>\n",
       "      <td>1.626144e+09</td>\n",
       "      <td>-0.521042</td>\n",
       "      <td>0.636322</td>\n",
       "      <td>-0.113998</td>\n",
       "    </tr>\n",
       "  </tbody>\n",
       "</table>\n",
       "</div>"
      ],
      "text/plain": [
       "           time         x         y         z\n",
       "0  1.626126e+09 -0.635269  0.235443 -0.721069\n",
       "1  1.626132e+09  0.117767  1.032318  0.123413\n",
       "2  1.626138e+09 -0.045044  0.483139 -0.865097\n",
       "3  1.626144e+09 -0.521042  0.636322 -0.113998"
      ]
     },
     "metadata": {},
     "output_type": "display_data"
    },
    {
     "name": "stdout",
     "output_type": "stream",
     "text": [
      "\n",
      "\n"
     ]
    },
    {
     "data": {
      "text/markdown": [
       "##### mean(accel):"
      ],
      "text/plain": [
       "<IPython.core.display.Markdown object>"
      ]
     },
     "metadata": {},
     "output_type": "display_data"
    },
    {
     "name": "stdout",
     "output_type": "stream",
     "text": [
      "\n"
     ]
    },
    {
     "data": {
      "text/html": [
       "<div>\n",
       "<style scoped>\n",
       "    .dataframe tbody tr th:only-of-type {\n",
       "        vertical-align: middle;\n",
       "    }\n",
       "\n",
       "    .dataframe tbody tr th {\n",
       "        vertical-align: top;\n",
       "    }\n",
       "\n",
       "    .dataframe thead th {\n",
       "        text-align: right;\n",
       "    }\n",
       "</style>\n",
       "<table border=\"1\" class=\"dataframe\">\n",
       "  <thead>\n",
       "    <tr style=\"text-align: right;\">\n",
       "      <th></th>\n",
       "      <th>time</th>\n",
       "      <th>x</th>\n",
       "      <th>y</th>\n",
       "      <th>z</th>\n",
       "    </tr>\n",
       "  </thead>\n",
       "  <tbody>\n",
       "    <tr>\n",
       "      <th>0</th>\n",
       "      <td>1.626126e+09</td>\n",
       "      <td>0.104360</td>\n",
       "      <td>0.565025</td>\n",
       "      <td>-0.005304</td>\n",
       "    </tr>\n",
       "    <tr>\n",
       "      <th>1</th>\n",
       "      <td>1.626132e+09</td>\n",
       "      <td>0.362081</td>\n",
       "      <td>0.579228</td>\n",
       "      <td>-0.111047</td>\n",
       "    </tr>\n",
       "    <tr>\n",
       "      <th>2</th>\n",
       "      <td>1.626138e+09</td>\n",
       "      <td>0.119065</td>\n",
       "      <td>0.553347</td>\n",
       "      <td>-0.254878</td>\n",
       "    </tr>\n",
       "    <tr>\n",
       "      <th>3</th>\n",
       "      <td>1.626144e+09</td>\n",
       "      <td>-0.002121</td>\n",
       "      <td>0.579046</td>\n",
       "      <td>-0.106290</td>\n",
       "    </tr>\n",
       "  </tbody>\n",
       "</table>\n",
       "</div>"
      ],
      "text/plain": [
       "           time         x         y         z\n",
       "0  1.626126e+09  0.104360  0.565025 -0.005304\n",
       "1  1.626132e+09  0.362081  0.579228 -0.111047\n",
       "2  1.626138e+09  0.119065  0.553347 -0.254878\n",
       "3  1.626144e+09 -0.002121  0.579046 -0.106290"
      ]
     },
     "metadata": {},
     "output_type": "display_data"
    },
    {
     "name": "stdout",
     "output_type": "stream",
     "text": [
      "\n",
      "\n"
     ]
    },
    {
     "data": {
      "text/markdown": [
       "##### median(accel):"
      ],
      "text/plain": [
       "<IPython.core.display.Markdown object>"
      ]
     },
     "metadata": {},
     "output_type": "display_data"
    },
    {
     "name": "stdout",
     "output_type": "stream",
     "text": [
      "\n"
     ]
    },
    {
     "data": {
      "text/html": [
       "<div>\n",
       "<style scoped>\n",
       "    .dataframe tbody tr th:only-of-type {\n",
       "        vertical-align: middle;\n",
       "    }\n",
       "\n",
       "    .dataframe tbody tr th {\n",
       "        vertical-align: top;\n",
       "    }\n",
       "\n",
       "    .dataframe thead th {\n",
       "        text-align: right;\n",
       "    }\n",
       "</style>\n",
       "<table border=\"1\" class=\"dataframe\">\n",
       "  <thead>\n",
       "    <tr style=\"text-align: right;\">\n",
       "      <th></th>\n",
       "      <th>time</th>\n",
       "      <th>x</th>\n",
       "      <th>y</th>\n",
       "      <th>z</th>\n",
       "    </tr>\n",
       "  </thead>\n",
       "  <tbody>\n",
       "    <tr>\n",
       "      <th>0</th>\n",
       "      <td>1.626126e+09</td>\n",
       "      <td>-0.027790</td>\n",
       "      <td>0.519338</td>\n",
       "      <td>-0.044327</td>\n",
       "    </tr>\n",
       "    <tr>\n",
       "      <th>1</th>\n",
       "      <td>1.626132e+09</td>\n",
       "      <td>0.345081</td>\n",
       "      <td>0.589878</td>\n",
       "      <td>-0.143318</td>\n",
       "    </tr>\n",
       "    <tr>\n",
       "      <th>2</th>\n",
       "      <td>1.626138e+09</td>\n",
       "      <td>0.035135</td>\n",
       "      <td>0.694097</td>\n",
       "      <td>-0.313926</td>\n",
       "    </tr>\n",
       "    <tr>\n",
       "      <th>3</th>\n",
       "      <td>1.626144e+09</td>\n",
       "      <td>-0.033143</td>\n",
       "      <td>0.707728</td>\n",
       "      <td>-0.173384</td>\n",
       "    </tr>\n",
       "  </tbody>\n",
       "</table>\n",
       "</div>"
      ],
      "text/plain": [
       "           time         x         y         z\n",
       "0  1.626126e+09 -0.027790  0.519338 -0.044327\n",
       "1  1.626132e+09  0.345081  0.589878 -0.143318\n",
       "2  1.626138e+09  0.035135  0.694097 -0.313926\n",
       "3  1.626144e+09 -0.033143  0.707728 -0.173384"
      ]
     },
     "metadata": {},
     "output_type": "display_data"
    },
    {
     "name": "stdout",
     "output_type": "stream",
     "text": [
      "\n",
      "\n"
     ]
    },
    {
     "data": {
      "text/markdown": [
       "##### last(accel):"
      ],
      "text/plain": [
       "<IPython.core.display.Markdown object>"
      ]
     },
     "metadata": {},
     "output_type": "display_data"
    },
    {
     "name": "stdout",
     "output_type": "stream",
     "text": [
      "\n"
     ]
    },
    {
     "data": {
      "text/html": [
       "<div>\n",
       "<style scoped>\n",
       "    .dataframe tbody tr th:only-of-type {\n",
       "        vertical-align: middle;\n",
       "    }\n",
       "\n",
       "    .dataframe tbody tr th {\n",
       "        vertical-align: top;\n",
       "    }\n",
       "\n",
       "    .dataframe thead th {\n",
       "        text-align: right;\n",
       "    }\n",
       "</style>\n",
       "<table border=\"1\" class=\"dataframe\">\n",
       "  <thead>\n",
       "    <tr style=\"text-align: right;\">\n",
       "      <th></th>\n",
       "      <th>time</th>\n",
       "      <th>x</th>\n",
       "      <th>y</th>\n",
       "      <th>z</th>\n",
       "    </tr>\n",
       "  </thead>\n",
       "  <tbody>\n",
       "    <tr>\n",
       "      <th>0</th>\n",
       "      <td>1.626126e+09</td>\n",
       "      <td>0.054230</td>\n",
       "      <td>0.950684</td>\n",
       "      <td>0.060516</td>\n",
       "    </tr>\n",
       "    <tr>\n",
       "      <th>1</th>\n",
       "      <td>1.626132e+09</td>\n",
       "      <td>-0.062164</td>\n",
       "      <td>0.481400</td>\n",
       "      <td>-0.854019</td>\n",
       "    </tr>\n",
       "    <tr>\n",
       "      <th>2</th>\n",
       "      <td>1.626138e+09</td>\n",
       "      <td>-0.517670</td>\n",
       "      <td>0.587143</td>\n",
       "      <td>-0.116455</td>\n",
       "    </tr>\n",
       "    <tr>\n",
       "      <th>3</th>\n",
       "      <td>1.626144e+09</td>\n",
       "      <td>0.055313</td>\n",
       "      <td>-0.226288</td>\n",
       "      <td>-0.977539</td>\n",
       "    </tr>\n",
       "  </tbody>\n",
       "</table>\n",
       "</div>"
      ],
      "text/plain": [
       "           time         x         y         z\n",
       "0  1.626126e+09  0.054230  0.950684  0.060516\n",
       "1  1.626132e+09 -0.062164  0.481400 -0.854019\n",
       "2  1.626138e+09 -0.517670  0.587143 -0.116455\n",
       "3  1.626144e+09  0.055313 -0.226288 -0.977539"
      ]
     },
     "metadata": {},
     "output_type": "display_data"
    },
    {
     "name": "stdout",
     "output_type": "stream",
     "text": [
      "\n",
      "\n"
     ]
    }
   ],
   "source": [
    "params = {\n",
    "    'device_id': 'OXWME382',\n",
    "    'patient_id': 'acd84ff341f54588a0eb6afb1173a2f1',\n",
    "    'start_time': '1626128333',\n",
    "    'end_time': '1626147851',\n",
    "   'resolution': '6000',\n",
    "}\n",
    "run_test_requests(params, headers, 'accel', 'accel')"
   ]
  },
  {
   "cell_type": "markdown",
   "id": "92ca7526",
   "metadata": {},
   "source": [
    "#### v1/band_power"
   ]
  },
  {
   "cell_type": "code",
   "execution_count": null,
   "id": "44a79349",
   "metadata": {},
   "outputs": [],
   "source": [
    "params = {\n",
    "    'patient_id': '1ce0cbb08eeb4986af2ee7d965e0f505',\n",
    "    'start_time': '1583357120',\n",
    "    'end_time': '1583366377',\n",
    "    'device_id': 'kp0ArnOK'\n",
    "}\n",
    "run_test_requests(params, headers, 'band_power', 'power', extra=False)"
   ]
  },
  {
   "cell_type": "markdown",
   "id": "d770fda9",
   "metadata": {},
   "source": [
    "#### v1/probability_symptom"
   ]
  },
  {
   "cell_type": "code",
   "execution_count": null,
   "id": "595a21ac",
   "metadata": {},
   "outputs": [],
   "source": [
    "params = {\n",
    "    'device_id': 'kp0ArnOK',\n",
    "    'symptom': 'tremor',\n",
    "    'patient_id': '1ce0cbb08eeb4986af2ee7d965e0f505',\n",
    "    'start_time': '1586210745',\n",
    "    'end_time': '1586229747',\n",
    "    'resolution': '3000',\n",
    "    'partition_size': '288',\n",
    "    'timestamp': 'datetime',\n",
    "    'timezone': '-14400',\n",
    "    'severity': '*'\n",
    "}\n",
    "run_test_requests(params, headers, 'probability_symptom', 'probability')"
   ]
  },
  {
   "cell_type": "markdown",
   "id": "be350da5",
   "metadata": {},
   "source": [
    "## Production"
   ]
  },
  {
   "cell_type": "code",
   "execution_count": 5,
   "id": "5bfe8780",
   "metadata": {},
   "outputs": [],
   "source": [
    "prod_config_path = '/Users/poorv/.rune/api-config-production.yaml'\n",
    "with open(prod_config_path) as f:\n",
    "    production_credentials = yaml.safe_load(f)\n",
    "    \n",
    "prod_headers = {\n",
    "    'X-Rune-User-Access-Token-Id': production_credentials['access_token_id'],\n",
    "    'X-Rune-User-Access-Token-Secret': production_credentials['access_token_secret']\n",
    "}"
   ]
  },
  {
   "cell_type": "markdown",
   "id": "3fbcd86c",
   "metadata": {},
   "source": [
    "#### v1/band_power"
   ]
  },
  {
   "cell_type": "code",
   "execution_count": 19,
   "id": "41dc164c",
   "metadata": {},
   "outputs": [
    {
     "data": {
      "text/markdown": [
       "#### JSON"
      ],
      "text/plain": [
       "<IPython.core.display.Markdown object>"
      ]
     },
     "metadata": {},
     "output_type": "display_data"
    },
    {
     "data": {
      "text/markdown": [
       "##### power:"
      ],
      "text/plain": [
       "<IPython.core.display.Markdown object>"
      ]
     },
     "metadata": {},
     "output_type": "display_data"
    },
    {
     "name": "stdout",
     "output_type": "stream",
     "text": [
      "{\n",
      "    \"result\": {\n",
      "        \"cardinality\": 830,\n",
      "        \"streams\": [{\n",
      "            \"parameters\": {\n",
      "                \"algorithm\": \"medtronic-rcs-3\",\n",
      "                \"anatomy\": \"GPi\",\n",
      "                \"band\": \"9.8hz-15.6hz\",\n",
      "                \"channel\": \"0\",\n",
      "                \"sensor\": \"0-3\"\n",
      "            },\n",
      "            \"power\": [4.846, 54.129, 235.775, 527.324, 928.217, 964.244, 881.307, 31394.408, 51219.509, 67004.704, 12.06, 4.546, 6.104, 3.181, 4.538, 4.456, 2.92, 2.954, 1.253, 1253.645, 1304.844, 70.501, 12.931, 5.01, 0.647, 0.792, 0.896, 1.755, 3017.737, 1304.52, 1.547, 2.765, 20.505, 146.029, 375.106, 748.03, 878.016, 841.952, 532.507, 44637.084, 43120.432, 16.545, 8.15, 15.144, 12.022, 17.73, 21.445, 207.739, 1214.208, 2291.902, 46.334, 71.513, 7.494, 6.751, 4.068, 1.771, 0.344, 0.342, 0.868, 1.653, 3.263, 3.412, 7.92, 11.518, 46.788, 202.73, 508.304, 981.337, 1176.227, 1157.199, 15152.239, 24884.495, 32178.043, 19035.044, 30.107, 13.076, 17.086, 14.385, 23.868, 858.83, 1407.012, 969.569, 33.452, 2.791, 4.01, 5.173, 5.412, 5.301, 3.912, 4.719, 5.866, 9.715, 16.393, 93.292, 280.521, 620.012, 961.925, 1030.439, 859.553, 61862.159, 16286.565, 50883.628, 21512.487, 1351.733, 1721.349, 1703.726, 1086.772, 495.235, 160.893, 33.305, 185.201, 590.581, 351.78, 7.845, 0.229, 0.386, 1.163, 2.492, 4.49, 4.856, 4.936, 3.189, 5.281, 7.305, 50.729, 225.973, 577.704, 1004.09, 1113.939, 1037.128, 28650.415, 39688.986, 47998.221, 51136.674, 40186.434, 12264.806, 40455.004, 5.303, 11.451, 8.695, 21.676, 1428.49, 1639.867, 199.459, 1.804, 0.83, 0.755, 1.261, 2.125, 4.169, 4.743, 10.458, 16.839, 109.205, 322.011, 632.76, 882.979, 877.791, 726.475, 61868.167, 12841.126, 13686.877, 38788.93, 17.987, 8.707, 16.469, 13.293, 20.061, 15.742, 19.963, 121.366, 1114.62, 1446.873, 122.933, 48.503, 2.215, 2.464, 2.201, 1.478, 1.079, 0.631, 1.043, 2.747, 7.279, 25.111, 124.194, 348.347, 812.878, 1148.504, 1253.438, 31118.984, 25851.376, 44978.633, 26094.414, 17112.424, 30256.248, 16.728, 8.044, 11.174, 7.972, 13.648, 11.963, 93.718, 166.2, 2089.816, 1477.545, 613.79, 245.618, 35.935, 15.644, 4.281, 1.147, 0.537, 0.338, 0.418, 0.665, 0.792, 1.278, 1.545, 1.97, 3.209, 1.938, 2.362, 2.508, 6.004, 56.275, 239.024, 571.751, 1028.857, 1146.059, 63376.954, 38785.551, 39477.295, 24383.406, 33404.119, 1023.348, 2.241, 1.462, 1.691, 1.771, 1.362, 1.185, 2.049, 1.685, 3.324, 2.597, 8.391, 18.138, 145.019, 354.103, 794.141, 1045.239, 1054.986, 41412.902, 13300.389, 45853.649, 49314.338, 20055.644, 13377.829, 29967.36, 15.485, 8.012, 13.534, 267.18, 1056.68, 1206.821, 98.981, 6.018, 5.49, 4.886, 4.187, 4.115, 3.245, 3.213, 2.719, 5.454, 55.283, 216.931, 527.049, 833.011, 853.602, 723.425, 2422.579, 33154.195, 36302.823, 45078.242, 2839.905, 1586.797, 1648.013, 1217.722, 541.145, 193.608, 25.549, 25.217, 261.418, 1200.862, 835.523, 101.988, 0.211, 0.171, 0.233, 0.511, 1.422, 2.089, 3.785, 5.38, 9.279, 18.674, 110.468, 287.363, 708.009, 976.877, 1024.229, 48262.068, 24766.185, 45755.466, 41433.398, 12291.994, 38924.708, 5.213, 9.711, 10.273, 18.254, 15.507, 83.102, 1023.597, 1568.244, 331.547, 9.333, 4.087, 4.066, 5.205, 6.074, 7.438, 8.259, 9.538, 39.234, 163.54, 427.113, 859.248, 1072.551, 1063.051, 32094.806, 21591.754, 34997.642, 14558.95, 51020.794, 1675.377, 25.278, 26.372, 20.356, 17.917, 11.176, 14.064, 11.556, 15.471, 233.008, 2335.921, 354.517, 123.103, 19.113, 9.285, 2.671, 1.223, 0.816, 0.362, 0.547, 0.958, 2, 5.868, 6.552, 63.419, 216.977, 522.148, 878.805, 929, 59525.697, 14765.354, 42744.315, 42784.318, 19081.781, 61707.963, 19.884, 12.817, 16.563, 12.236, 323.517, 224.407, 1142.587, 685.816, 155.314, 34.596, 10.409, 6.402, 4.643, 3.994, 2.717, 3.03, 3.195, 4.96, 3.755, 4.595, 3.436, 4.623, 4.139, 3.454, 2.33, 2.183, 2.536, 8.759, 17.379, 56.839, 217.795, 470.303, 966.141],\n",
      "            \"time\": [1583357127.237, 1583357127.367, 1583357127.526, 1583357127.673, 1583357127.8270001, 1583357127.981, 1583357128.117, 1583357128.273, 1583357128.423, 1583357128.5830002, 1583357128.723, 1583357128.871, 1583357129.019, 1583357129.173, 1583357129.332, 1583357129.471, 1583357129.6230001, 1583357129.763, 1583357129.934, 1583357130.073, 1583357130.223, 1583357130.3730001, 1583357130.523, 1583357130.668, 1583357130.823, 1583357130.973, 1583357131.115, 1583357131.267, 1583357131.425, 1583357131.566, 1583357131.723, 1583357131.879, 1583357132.016, 1583357132.174, 1583357132.325, 1583357132.473, 1583357132.622, 1583357132.776, 1583357132.923, 1583357133.073, 1583357133.223, 1583357133.367, 1583357133.525, 1583357133.673, 1583357133.823, 1583357133.973, 1583357134.119, 1583357134.269, 1583357134.423, 1583357134.573, 1583357134.732, 1583357134.8700001, 1583357135.023, 1583357135.173, 1583357135.324, 1583357135.471, 1583357135.6230001, 1583357135.773, 1583357135.923, 1583357136.082, 1583357136.219, 1583357136.3730001, 1583357136.523, 1583357136.683, 1583357136.822, 1583357136.973, 1583357137.1230001, 1583357137.273, 1583357137.432, 1583357137.575, 1583357137.723, 1583357137.865, 1583357138.023, 1583357138.182, 1583357138.319, 1583357138.473, 1583357138.6230001, 1583357138.767, 1583357138.922, 1583357139.068, 1583357139.223, 1583357139.3730001, 1583357139.532, 1583357139.676, 1583357139.823, 1583357139.973, 1583357140.115, 1583357140.274, 1583357140.424, 1583357140.573, 1583357140.716, 1583357140.889, 1583357141.032, 1583357141.173, 1583357141.318, 1583357141.469, 1583357141.625, 1583357141.773, 1583357141.923, 1583357142.073, 1583357142.215, 1583357142.374, 1583357142.523, 1583357142.673, 1583357142.821, 1583357142.976, 1583357143.1230001, 1583357143.273, 1583357143.423, 1583357143.593, 1583357143.729, 1583357143.882, 1583357144.023, 1583357144.164, 1583357144.323, 1583357144.469, 1583357144.6230001, 1583357144.773, 1583357144.918, 1583357145.076, 1583357145.223, 1583357145.3730001, 1583357145.523, 1583357145.665, 1583357145.825, 1583357145.973, 1583357146.1230001, 1583357146.282, 1583357146.423, 1583357146.573, 1583357146.723, 1583357146.875, 1583357147.026, 1583357147.168, 1583357147.323, 1583357147.473, 1583357147.632, 1583357147.77, 1583357147.92, 1583357148.073, 1583357148.223, 1583357148.3730001, 1583357148.519, 1583357148.673, 1583357148.823, 1583357148.971, 1583357149.126, 1583357149.273, 1583357149.414, 1583357149.573, 1583357149.724, 1583357149.8730001, 1583357150.023, 1583357150.173, 1583357150.318, 1583357150.477, 1583357150.6230001, 1583357150.773, 1583357150.921, 1583357151.076, 1583357151.2220001, 1583357151.3730001, 1583357151.514, 1583357151.6660001, 1583357151.825, 1583357151.971, 1583357152.1230001, 1583357152.267, 1583357152.414, 1583357152.573, 1583357152.714, 1583357152.868, 1583357153.02, 1583357153.176, 1583357153.323, 1583357153.473, 1583357153.618, 1583357153.766, 1583357153.925, 1583357154.073, 1583357154.223, 1583357154.363, 1583357154.523, 1583357154.673, 1583357154.823, 1583357154.969, 1583357155.126, 1583357155.276, 1583357155.413, 1583357155.573, 1583357155.723, 1583357155.8830001, 1583357156.023, 1583357156.173, 1583357156.323, 1583357156.464, 1583357156.626, 1583357156.773, 1583357156.923, 1583357157.07, 1583357157.216, 1583357157.376, 1583357157.523, 1583357157.673, 1583357157.833, 1583357157.97, 1583357158.1230001, 1583357158.273, 1583357158.423, 1583357158.5770001, 1583357158.723, 1583357158.877, 1583357159.017, 1583357159.17, 1583357159.3170002, 1583357159.473, 1583357159.614, 1583357159.773, 1583357159.928, 1583357160.07, 1583357160.223, 1583357160.3730001, 1583357160.514, 1583357160.664, 1583357160.823, 1583357160.965, 1583357161.1230001, 1583357161.265, 1583357161.423, 1583357161.573, 1583357161.714, 1583357161.872, 1583357162.024, 1583357162.17, 1583357162.323, 1583357162.473, 1583357162.622, 1583357162.773, 1583357162.922, 1583357163.073, 1583357163.217, 1583357163.376, 1583357163.523, 1583357163.673, 1583357163.823, 1583357163.965, 1583357164.124, 1583357164.273, 1583357164.423, 1583357164.572, 1583357164.718, 1583357164.8730001, 1583357165.023, 1583357165.173, 1583357165.3170002, 1583357165.476, 1583357165.6230001, 1583357165.773, 1583357165.915, 1583357166.0740001, 1583357166.223, 1583357166.3730001, 1583357166.523, 1583357166.682, 1583357166.818, 1583357166.973, 1583357167.1230001, 1583357167.273, 1583357167.428, 1583357167.5670002, 1583357167.723, 1583357167.868, 1583357168.015, 1583357168.176, 1583357168.323, 1583357168.473, 1583357168.6230001, 1583357168.768, 1583357168.9290001, 1583357169.073, 1583357169.223, 1583357169.382, 1583357169.525, 1583357169.673, 1583357169.823, 1583357169.973, 1583357170.132, 1583357170.27, 1583357170.423, 1583357170.573, 1583357170.714, 1583357170.869, 1583357171.023, 1583357171.165, 1583357171.323, 1583357171.4750001, 1583357171.626, 1583357171.773, 1583357171.913, 1583357172.072, 1583357172.215, 1583357172.3730001, 1583357172.523, 1583357172.673, 1583357172.826, 1583357172.972, 1583357173.1230001, 1583357173.265, 1583357173.428, 1583357173.566, 1583357173.723, 1583357173.867, 1583357174.022, 1583357174.184, 1583357174.341, 1583357174.473, 1583357174.6230001, 1583357174.77, 1583357174.926, 1583357175.0640004, 1583357175.223, 1583357175.3730001, 1583357175.529, 1583357175.6660001, 1583357175.823, 1583357175.973, 1583357176.121, 1583357176.269, 1583357176.423, 1583357176.5640004, 1583357176.723, 1583357176.864, 1583357177.026, 1583357177.173, 1583357177.323, 1583357177.473, 1583357177.625, 1583357177.7710001, 1583357177.923, 1583357178.073, 1583357178.232, 1583357178.369, 1583357178.523, 1583357178.673, 1583357178.823, 1583357178.972, 1583357179.118, 1583357179.273, 1583357179.423, 1583357179.582, 1583357179.721, 1583357179.866, 1583357180.023, 1583357180.173, 1583357180.328, 1583357180.469, 1583357180.632, 1583357180.773, 1583357180.913, 1583357181.0770001, 1583357181.223, 1583357181.369, 1583357181.523, 1583357181.674, 1583357181.826, 1583357181.973, 1583357182.1230001, 1583357182.265, 1583357182.432, 1583357182.569, 1583357182.723, 1583357182.876, 1583357183.026, 1583357183.163, 1583357183.323, 1583357183.464, 1583357183.616, 1583357183.775, 1583357183.923, 1583357184.073, 1583357184.224, 1583357184.374, 1583357184.524, 1583357184.664, 1583357184.823, 1583357184.966, 1583357185.126, 1583357185.274, 1583357185.423, 1583357185.573, 1583357185.726, 1583357185.875, 1583357186.023, 1583357186.173, 1583357186.3140001, 1583357186.476, 1583357186.615, 1583357186.773, 1583357186.923, 1583357187.082, 1583357187.226, 1583357187.3730001, 1583357187.524, 1583357187.672, 1583357187.8270001, 1583357187.9750001, 1583357188.1230001, 1583357188.283, 1583357188.418, 1583357188.576, 1583357188.718, 1583357188.864, 1583357189.023, 1583357189.171, 1583357189.3429997]\n",
      "        }, {\n",
      "            \"parameters\": {\n",
      "                \"algorithm\": \"medtronic-rcs-3\",\n",
      "                \"anatomy\": \"GPi\",\n",
      "                \"band\": \"91.8hz-93.8hz\",\n",
      "                \"channel\": \"0\",\n",
      "                \"sensor\": \"0-3\"\n",
      "            },\n",
      "            \"power\": [0.097, 0.127, 2.169, 5.596, 11.811, 16.497, 12.12, 1215.156, 99.069, 1.147, 0.161, 0.049, 0.049, 0.071, 0.049, 0.097, 0.049, 0.127, 0.049, 457.089, 27.739, 0.39, 0.017, 0.017, 0.031, 0.049, 0.001, 0.071, 1483.719, 1901.6, 0.071, 0.017, 0.071, 0.964, 4.98, 8.677, 15.427, 12.433, 9.484, 1419.106, 1556.806, 0.51, 0.199, 0.097, 0.049, 0.007, 0.161, 2.581, 21.135, 91.234, 0.878, 3.187, 0.199, 0.097, 0.071, 0.071, 0.001, 0.049, 0.001, 0.017, 0.017, 0.017, 0.199, 0.199, 0.241, 1.245, 4.59, 8.677, 13.395, 10.616, 4.783, 434.474, 38.491, 127.517, 0.097, 0.199, 0.199, 0.161, 0.719, 41.885, 44.228, 39.606, 3.03, 0.031, 0.001, 0.097, 0.071, 0.241, 0.071, 0.049, 0.049, 0.049, 0.071, 0.127, 2.302, 4.4, 9.761, 10.616, 8.16, 107.227, 408.814, 152.858, 304.567, 13.724, 22.808, 19.132, 13.724, 6.026, 1.346, 0.127, 5.596, 27.739, 8.16, 0.336, 0.001, 0.007, 0.031, 0.007, 0.071, 0.007, 0.031, 0, 0.071, 0.049, 0.017, 0.878, 4.034, 9.211, 15.78, 13.724, 275.686, 359.838, 109.084, 87.02, 90.383, 301.459, 1741.62, 0.097, 0.199, 0.161, 0.448, 46.635, 143.086, 17.602, 0, 0.049, 0.001, 0.031, 0.007, 0.007, 0.031, 0.127, 0.161, 0.017, 1.792, 4.59, 11.206, 12.75, 10.616, 185.323, 667.862, 40.17, 640.466, 0.241, 0.199, 0.127, 0.071, 0.031, 0.049, 0.336, 3.514, 48.481, 83.721, 12.433, 0.336, 0, 0.049, 0.001, 0.097, 0.001, 0.049, 0.001, 0.031, 0, 0.127, 1.675, 5.596, 8.677, 11.506, 7.906, 32.64, 272.73, 140.959, 408.814, 95.547, 1255.946, 0.127, 0.127, 0.097, 0.071, 0.017, 0.049, 4.783, 2.169, 9.211, 11.811, 4.783, 0.878, 0.39, 0.097, 0.001, 0.071, 0.001, 0.097, 0.001, 0.049, 0.017, 0.031, 0.007, 0.071, 0.071, 0.031, 0.007, 0.049, 0.031, 0.049, 1.561, 3.683, 7.171, 7.906, 46.635, 69.664, 4.783, 94.676, 598.261, 35.239, 0.199, 0.031, 0.161, 0.049, 0.097, 0.097, 0.001, 0.049, 0.049, 0.031, 0.049, 0.017, 0.448, 3.514, 6.247, 12.12, 10.616, 484.199, 338.161, 152.858, 399.84, 907.69, 117.636, 158.426, 0.127, 0.127, 0.127, 12.433, 15.078, 35.771, 2.04, 0.017, 0.031, 0.049, 0.071, 0.161, 0.017, 0.097, 0.127, 0.097, 0.049, 1.561, 4.783, 10.042, 12.75, 9.211, 263.956, 57.574, 47.862, 249.652, 283.147, 16.497, 14.734, 10.327, 4.034, 0.575, 0.161, 0.161, 15.078, 10.909, 8.16, 1.147, 0.097, 0, 0.031, 0.001, 0.031, 0.007, 0.049, 0.031, 0.007, 0.127, 1.053, 4.98, 7.906, 13.395, 11.206, 417.889, 373.513, 65.266, 96.421, 965.047, 1813.121, 0.097, 0.161, 0.161, 0.241, 0.199, 0.645, 39.046, 16.497, 12.12, 0.001, 0.071, 0.031, 0.071, 0.031, 0.049, 0, 0.007, 0.161, 1.914, 5.596, 7.657, 10.616, 7.171, 106.305, 320.345, 145.23, 688.786, 443.827, 375.24, 0.127, 0.199, 0.161, 0.127, 0.097, 0.097, 0.071, 0.336, 4.215, 81.289, 26.806, 0.575, 0.097, 0.071, 0.007, 0.017, 0.071, 0.001, 0.071, 0.017, 0.071, 0.049, 0.199, 0.575, 3.683, 6.701, 10.616, 10.909, 339.805, 140.959, 155.073, 343.104, 0.017, 280.151, 0.161, 0.127, 0.097, 0.031, 2.581, 1.914, 2.302, 12.12, 0.964, 0.448, 0.161, 0.161, 0.017, 0.071, 0.001, 0.097, 0, 0.071, 0.017, 0.127, 0.017, 0.097, 0.017, 0.049, 0.017, 0.001, 0.049, 0.161, 0.199, 0.448, 2.581, 6.472, 11.206],\n",
      "            \"time\": [1583357127.237, 1583357127.367, 1583357127.526, 1583357127.673, 1583357127.8270001, 1583357127.981, 1583357128.117, 1583357128.273, 1583357128.423, 1583357128.5830002, 1583357128.723, 1583357128.871, 1583357129.019, 1583357129.173, 1583357129.332, 1583357129.471, 1583357129.6230001, 1583357129.763, 1583357129.934, 1583357130.073, 1583357130.223, 1583357130.3730001, 1583357130.523, 1583357130.668, 1583357130.823, 1583357130.973, 1583357131.115, 1583357131.267, 1583357131.425, 1583357131.566, 1583357131.723, 1583357131.879, 1583357132.016, 1583357132.174, 1583357132.325, 1583357132.473, 1583357132.622, 1583357132.776, 1583357132.923, 1583357133.073, 1583357133.223, 1583357133.367, 1583357133.525, 1583357133.673, 1583357133.823, 1583357133.973, 1583357134.119, 1583357134.269, 1583357134.423, 1583357134.573, 1583357134.732, 1583357134.8700001, 1583357135.023, 1583357135.173, 1583357135.324, 1583357135.471, 1583357135.6230001, 1583357135.773, 1583357135.923, 1583357136.082, 1583357136.219, 1583357136.3730001, 1583357136.523, 1583357136.683, 1583357136.822, 1583357136.973, 1583357137.1230001, 1583357137.273, 1583357137.432, 1583357137.575, 1583357137.723, 1583357137.865, 1583357138.023, 1583357138.182, 1583357138.319, 1583357138.473, 1583357138.6230001, 1583357138.767, 1583357138.922, 1583357139.068, 1583357139.223, 1583357139.3730001, 1583357139.532, 1583357139.676, 1583357139.823, 1583357139.973, 1583357140.115, 1583357140.274, 1583357140.424, 1583357140.573, 1583357140.716, 1583357140.889, 1583357141.032, 1583357141.173, 1583357141.318, 1583357141.469, 1583357141.625, 1583357141.773, 1583357141.923, 1583357142.073, 1583357142.215, 1583357142.374, 1583357142.523, 1583357142.673, 1583357142.821, 1583357142.976, 1583357143.1230001, 1583357143.273, 1583357143.423, 1583357143.593, 1583357143.729, 1583357143.882, 1583357144.023, 1583357144.164, 1583357144.323, 1583357144.469, 1583357144.6230001, 1583357144.773, 1583357144.918, 1583357145.076, 1583357145.223, 1583357145.3730001, 1583357145.523, 1583357145.665, 1583357145.825, 1583357145.973, 1583357146.1230001, 1583357146.282, 1583357146.423, 1583357146.573, 1583357146.723, 1583357146.875, 1583357147.026, 1583357147.168, 1583357147.323, 1583357147.473, 1583357147.632, 1583357147.77, 1583357147.92, 1583357148.073, 1583357148.223, 1583357148.3730001, 1583357148.519, 1583357148.673, 1583357148.823, 1583357148.971, 1583357149.126, 1583357149.273, 1583357149.414, 1583357149.573, 1583357149.724, 1583357149.8730001, 1583357150.023, 1583357150.173, 1583357150.318, 1583357150.477, 1583357150.6230001, 1583357150.773, 1583357150.921, 1583357151.076, 1583357151.2220001, 1583357151.3730001, 1583357151.514, 1583357151.6660001, 1583357151.825, 1583357151.971, 1583357152.1230001, 1583357152.267, 1583357152.414, 1583357152.573, 1583357152.714, 1583357152.868, 1583357153.02, 1583357153.176, 1583357153.323, 1583357153.473, 1583357153.618, 1583357153.766, 1583357153.925, 1583357154.073, 1583357154.223, 1583357154.363, 1583357154.523, 1583357154.673, 1583357154.823, 1583357154.969, 1583357155.126, 1583357155.276, 1583357155.413, 1583357155.573, 1583357155.723, 1583357155.8830001, 1583357156.023, 1583357156.173, 1583357156.323, 1583357156.464, 1583357156.626, 1583357156.773, 1583357156.923, 1583357157.07, 1583357157.216, 1583357157.376, 1583357157.523, 1583357157.673, 1583357157.833, 1583357157.97, 1583357158.1230001, 1583357158.273, 1583357158.423, 1583357158.5770001, 1583357158.723, 1583357158.877, 1583357159.017, 1583357159.17, 1583357159.3170002, 1583357159.473, 1583357159.614, 1583357159.773, 1583357159.928, 1583357160.07, 1583357160.223, 1583357160.3730001, 1583357160.514, 1583357160.664, 1583357160.823, 1583357160.965, 1583357161.1230001, 1583357161.265, 1583357161.423, 1583357161.573, 1583357161.714, 1583357161.872, 1583357162.024, 1583357162.17, 1583357162.323, 1583357162.473, 1583357162.622, 1583357162.773, 1583357162.922, 1583357163.073, 1583357163.217, 1583357163.376, 1583357163.523, 1583357163.673, 1583357163.823, 1583357163.965, 1583357164.124, 1583357164.273, 1583357164.423, 1583357164.572, 1583357164.718, 1583357164.8730001, 1583357165.023, 1583357165.173, 1583357165.3170002, 1583357165.476, 1583357165.6230001, 1583357165.773, 1583357165.915, 1583357166.0740001, 1583357166.223, 1583357166.3730001, 1583357166.523, 1583357166.682, 1583357166.818, 1583357166.973, 1583357167.1230001, 1583357167.273, 1583357167.428, 1583357167.5670002, 1583357167.723, 1583357167.868, 1583357168.015, 1583357168.176, 1583357168.323, 1583357168.473, 1583357168.6230001, 1583357168.768, 1583357168.9290001, 1583357169.073, 1583357169.223, 1583357169.382, 1583357169.525, 1583357169.673, 1583357169.823, 1583357169.973, 1583357170.132, 1583357170.27, 1583357170.423, 1583357170.573, 1583357170.714, 1583357170.869, 1583357171.023, 1583357171.165, 1583357171.323, 1583357171.4750001, 1583357171.626, 1583357171.773, 1583357171.913, 1583357172.072, 1583357172.215, 1583357172.3730001, 1583357172.523, 1583357172.673, 1583357172.826, 1583357172.972, 1583357173.1230001, 1583357173.265, 1583357173.428, 1583357173.566, 1583357173.723, 1583357173.867, 1583357174.022, 1583357174.184, 1583357174.341, 1583357174.473, 1583357174.6230001, 1583357174.77, 1583357174.926, 1583357175.0640004, 1583357175.223, 1583357175.3730001, 1583357175.529, 1583357175.6660001, 1583357175.823, 1583357175.973, 1583357176.121, 1583357176.269, 1583357176.423, 1583357176.5640004, 1583357176.723, 1583357176.864, 1583357177.026, 1583357177.173, 1583357177.323, 1583357177.473, 1583357177.625, 1583357177.7710001, 1583357177.923, 1583357178.073, 1583357178.232, 1583357178.369, 1583357178.523, 1583357178.673, 1583357178.823, 1583357178.972, 1583357179.118, 1583357179.273, 1583357179.423, 1583357179.582, 1583357179.721, 1583357179.866, 1583357180.023, 1583357180.173, 1583357180.328, 1583357180.469, 1583357180.632, 1583357180.773, 1583357180.913, 1583357181.0770001, 1583357181.223, 1583357181.369, 1583357181.523, 1583357181.674, 1583357181.826, 1583357181.973, 1583357182.1230001, 1583357182.265, 1583357182.432, 1583357182.569, 1583357182.723, 1583357182.876, 1583357183.026, 1583357183.163, 1583357183.323, 1583357183.464, 1583357183.616, 1583357183.775, 1583357183.923, 1583357184.073, 1583357184.224, 1583357184.374, 1583357184.524, 1583357184.664, 1583357184.823, 1583357184.966, 1583357185.126, 1583357185.274, 1583357185.423, 1583357185.573, 1583357185.726, 1583357185.875, 1583357186.023, 1583357186.173, 1583357186.3140001, 1583357186.476, 1583357186.615, 1583357186.773, 1583357186.923, 1583357187.082, 1583357187.226, 1583357187.3730001, 1583357187.524, 1583357187.672, 1583357187.8270001, 1583357187.9750001, 1583357188.1230001, 1583357188.283, 1583357188.418, 1583357188.576, 1583357188.718, 1583357188.864, 1583357189.023, 1583357189.171, 1583357189.3429997]\n",
      "        }]\n",
      "    },\n",
      "    \"success\": true\n",
      "}\n",
      "\n",
      "\n"
     ]
    },
    {
     "data": {
      "text/markdown": [
       "##### availability(power):"
      ],
      "text/plain": [
       "<IPython.core.display.Markdown object>"
      ]
     },
     "metadata": {},
     "output_type": "display_data"
    },
    {
     "name": "stdout",
     "output_type": "stream",
     "text": [
      "{\n",
      "    \"result\": {\n",
      "        \"cardinality\": 310,\n",
      "        \"streams\": [{\n",
      "            \"availability\": [1, 1, 0, 0, 0, 0, 0, 0, 0, 0, 0, 0, 0, 0, 0, 0, 0, 0, 0, 0, 0, 0, 0, 0, 0, 0, 0, 0, 0, 0, 0, 0, 0, 0, 0, 0, 0, 0, 0, 0, 0, 0, 0, 0, 0, 0, 0, 0, 0, 0, 0, 0, 0, 0, 0, 0, 0, 0, 0, 0, 0, 0, 0, 0, 0, 0, 0, 0, 0, 0, 0, 0, 0, 0, 0, 0, 0, 0, 0, 0, 0, 0, 0, 0, 0, 0, 0, 0, 0, 0, 0, 0, 0, 0, 0, 0, 0, 0, 0, 0, 0, 0, 0, 0, 0, 0, 0, 0, 0, 0, 0, 0, 0, 0, 0, 0, 0, 0, 0, 0, 0, 0, 0, 0, 0, 0, 0, 0, 0, 0, 0, 0, 0, 0, 0, 0, 0, 0, 0, 0, 0, 0, 0, 0, 0, 0, 0, 0, 0, 0, 0, 0, 0, 0, 0],\n",
      "            \"parameters\": {\n",
      "                \"algorithm\": \"medtronic-rcs-3\",\n",
      "                \"anatomy\": \"GPi\",\n",
      "                \"band\": \"9.8hz-15.6hz\",\n",
      "                \"channel\": \"0\",\n",
      "                \"sensor\": \"0-3\"\n",
      "            },\n",
      "            \"time\": [1583357100, 1583357160, 1583357220, 1583357280, 1583357340, 1583357400, 1583357460, 1583357520, 1583357580, 1583357640, 1583357700, 1583357760, 1583357820, 1583357880, 1583357940, 1583358000, 1583358060, 1583358120, 1583358180, 1583358240, 1583358300, 1583358360, 1583358420, 1583358480, 1583358540, 1583358600, 1583358660, 1583358720, 1583358780, 1583358840, 1583358900, 1583358960, 1583359020, 1583359080, 1583359140, 1583359200, 1583359260, 1583359320, 1583359380, 1583359440, 1583359500, 1583359560, 1583359620, 1583359680, 1583359740, 1583359800, 1583359860, 1583359920, 1583359980, 1583360040, 1583360100, 1583360160, 1583360220, 1583360280, 1583360340, 1583360400, 1583360460, 1583360520, 1583360580, 1583360640, 1583360700, 1583360760, 1583360820, 1583360880, 1583360940, 1583361000, 1583361060, 1583361120, 1583361180, 1583361240, 1583361300, 1583361360, 1583361420, 1583361480, 1583361540, 1583361600, 1583361660, 1583361720, 1583361780, 1583361840, 1583361900, 1583361960, 1583362020, 1583362080, 1583362140, 1583362200, 1583362260, 1583362320, 1583362380, 1583362440, 1583362500, 1583362560, 1583362620, 1583362680, 1583362740, 1583362800, 1583362860, 1583362920, 1583362980, 1583363040, 1583363100, 1583363160, 1583363220, 1583363280, 1583363340, 1583363400, 1583363460, 1583363520, 1583363580, 1583363640, 1583363700, 1583363760, 1583363820, 1583363880, 1583363940, 1583364000, 1583364060, 1583364120, 1583364180, 1583364240, 1583364300, 1583364360, 1583364420, 1583364480, 1583364540, 1583364600, 1583364660, 1583364720, 1583364780, 1583364840, 1583364900, 1583364960, 1583365020, 1583365080, 1583365140, 1583365200, 1583365260, 1583365320, 1583365380, 1583365440, 1583365500, 1583365560, 1583365620, 1583365680, 1583365740, 1583365800, 1583365860, 1583365920, 1583365980, 1583366040, 1583366100, 1583366160, 1583366220, 1583366280, 1583366340]\n",
      "        }, {\n",
      "            \"availability\": [1, 1, 0, 0, 0, 0, 0, 0, 0, 0, 0, 0, 0, 0, 0, 0, 0, 0, 0, 0, 0, 0, 0, 0, 0, 0, 0, 0, 0, 0, 0, 0, 0, 0, 0, 0, 0, 0, 0, 0, 0, 0, 0, 0, 0, 0, 0, 0, 0, 0, 0, 0, 0, 0, 0, 0, 0, 0, 0, 0, 0, 0, 0, 0, 0, 0, 0, 0, 0, 0, 0, 0, 0, 0, 0, 0, 0, 0, 0, 0, 0, 0, 0, 0, 0, 0, 0, 0, 0, 0, 0, 0, 0, 0, 0, 0, 0, 0, 0, 0, 0, 0, 0, 0, 0, 0, 0, 0, 0, 0, 0, 0, 0, 0, 0, 0, 0, 0, 0, 0, 0, 0, 0, 0, 0, 0, 0, 0, 0, 0, 0, 0, 0, 0, 0, 0, 0, 0, 0, 0, 0, 0, 0, 0, 0, 0, 0, 0, 0, 0, 0, 0, 0, 0, 0],\n",
      "            \"parameters\": {\n",
      "                \"algorithm\": \"medtronic-rcs-3\",\n",
      "                \"anatomy\": \"GPi\",\n",
      "                \"band\": \"91.8hz-93.8hz\",\n",
      "                \"channel\": \"0\",\n",
      "                \"sensor\": \"0-3\"\n",
      "            },\n",
      "            \"time\": [1583357100, 1583357160, 1583357220, 1583357280, 1583357340, 1583357400, 1583357460, 1583357520, 1583357580, 1583357640, 1583357700, 1583357760, 1583357820, 1583357880, 1583357940, 1583358000, 1583358060, 1583358120, 1583358180, 1583358240, 1583358300, 1583358360, 1583358420, 1583358480, 1583358540, 1583358600, 1583358660, 1583358720, 1583358780, 1583358840, 1583358900, 1583358960, 1583359020, 1583359080, 1583359140, 1583359200, 1583359260, 1583359320, 1583359380, 1583359440, 1583359500, 1583359560, 1583359620, 1583359680, 1583359740, 1583359800, 1583359860, 1583359920, 1583359980, 1583360040, 1583360100, 1583360160, 1583360220, 1583360280, 1583360340, 1583360400, 1583360460, 1583360520, 1583360580, 1583360640, 1583360700, 1583360760, 1583360820, 1583360880, 1583360940, 1583361000, 1583361060, 1583361120, 1583361180, 1583361240, 1583361300, 1583361360, 1583361420, 1583361480, 1583361540, 1583361600, 1583361660, 1583361720, 1583361780, 1583361840, 1583361900, 1583361960, 1583362020, 1583362080, 1583362140, 1583362200, 1583362260, 1583362320, 1583362380, 1583362440, 1583362500, 1583362560, 1583362620, 1583362680, 1583362740, 1583362800, 1583362860, 1583362920, 1583362980, 1583363040, 1583363100, 1583363160, 1583363220, 1583363280, 1583363340, 1583363400, 1583363460, 1583363520, 1583363580, 1583363640, 1583363700, 1583363760, 1583363820, 1583363880, 1583363940, 1583364000, 1583364060, 1583364120, 1583364180, 1583364240, 1583364300, 1583364360, 1583364420, 1583364480, 1583364540, 1583364600, 1583364660, 1583364720, 1583364780, 1583364840, 1583364900, 1583364960, 1583365020, 1583365080, 1583365140, 1583365200, 1583365260, 1583365320, 1583365380, 1583365440, 1583365500, 1583365560, 1583365620, 1583365680, 1583365740, 1583365800, 1583365860, 1583365920, 1583365980, 1583366040, 1583366100, 1583366160, 1583366220, 1583366280, 1583366340]\n",
      "        }]\n",
      "    },\n",
      "    \"success\": true\n",
      "}\n",
      "\n",
      "\n"
     ]
    },
    {
     "data": {
      "text/markdown": [
       "#### CSV"
      ],
      "text/plain": [
       "<IPython.core.display.Markdown object>"
      ]
     },
     "metadata": {},
     "output_type": "display_data"
    },
    {
     "data": {
      "text/markdown": [
       "##### power:"
      ],
      "text/plain": [
       "<IPython.core.display.Markdown object>"
      ]
     },
     "metadata": {},
     "output_type": "display_data"
    },
    {
     "name": "stdout",
     "output_type": "stream",
     "text": [
      "\n"
     ]
    },
    {
     "data": {
      "text/html": [
       "<div>\n",
       "<style scoped>\n",
       "    .dataframe tbody tr th:only-of-type {\n",
       "        vertical-align: middle;\n",
       "    }\n",
       "\n",
       "    .dataframe tbody tr th {\n",
       "        vertical-align: top;\n",
       "    }\n",
       "\n",
       "    .dataframe thead th {\n",
       "        text-align: right;\n",
       "    }\n",
       "</style>\n",
       "<table border=\"1\" class=\"dataframe\">\n",
       "  <thead>\n",
       "    <tr style=\"text-align: right;\">\n",
       "      <th></th>\n",
       "      <th>timestamp</th>\n",
       "      <th>algorithm</th>\n",
       "      <th>anatomy</th>\n",
       "      <th>band</th>\n",
       "      <th>channel</th>\n",
       "      <th>sensor</th>\n",
       "      <th>power</th>\n",
       "    </tr>\n",
       "  </thead>\n",
       "  <tbody>\n",
       "    <tr>\n",
       "      <th>0</th>\n",
       "      <td>1.583357e+09</td>\n",
       "      <td>medtronic-rcs-3</td>\n",
       "      <td>GPi</td>\n",
       "      <td>9.8hz-15.6hz</td>\n",
       "      <td>0</td>\n",
       "      <td>0-3</td>\n",
       "      <td>4.846</td>\n",
       "    </tr>\n",
       "    <tr>\n",
       "      <th>1</th>\n",
       "      <td>1.583357e+09</td>\n",
       "      <td>medtronic-rcs-3</td>\n",
       "      <td>GPi</td>\n",
       "      <td>9.8hz-15.6hz</td>\n",
       "      <td>0</td>\n",
       "      <td>0-3</td>\n",
       "      <td>54.129</td>\n",
       "    </tr>\n",
       "    <tr>\n",
       "      <th>2</th>\n",
       "      <td>1.583357e+09</td>\n",
       "      <td>medtronic-rcs-3</td>\n",
       "      <td>GPi</td>\n",
       "      <td>9.8hz-15.6hz</td>\n",
       "      <td>0</td>\n",
       "      <td>0-3</td>\n",
       "      <td>235.775</td>\n",
       "    </tr>\n",
       "    <tr>\n",
       "      <th>3</th>\n",
       "      <td>1.583357e+09</td>\n",
       "      <td>medtronic-rcs-3</td>\n",
       "      <td>GPi</td>\n",
       "      <td>9.8hz-15.6hz</td>\n",
       "      <td>0</td>\n",
       "      <td>0-3</td>\n",
       "      <td>527.324</td>\n",
       "    </tr>\n",
       "    <tr>\n",
       "      <th>4</th>\n",
       "      <td>1.583357e+09</td>\n",
       "      <td>medtronic-rcs-3</td>\n",
       "      <td>GPi</td>\n",
       "      <td>9.8hz-15.6hz</td>\n",
       "      <td>0</td>\n",
       "      <td>0-3</td>\n",
       "      <td>928.217</td>\n",
       "    </tr>\n",
       "    <tr>\n",
       "      <th>...</th>\n",
       "      <td>...</td>\n",
       "      <td>...</td>\n",
       "      <td>...</td>\n",
       "      <td>...</td>\n",
       "      <td>...</td>\n",
       "      <td>...</td>\n",
       "      <td>...</td>\n",
       "    </tr>\n",
       "    <tr>\n",
       "      <th>825</th>\n",
       "      <td>1.583357e+09</td>\n",
       "      <td>medtronic-rcs-3</td>\n",
       "      <td>GPi</td>\n",
       "      <td>91.8hz-93.8hz</td>\n",
       "      <td>0</td>\n",
       "      <td>0-3</td>\n",
       "      <td>0.199</td>\n",
       "    </tr>\n",
       "    <tr>\n",
       "      <th>826</th>\n",
       "      <td>1.583357e+09</td>\n",
       "      <td>medtronic-rcs-3</td>\n",
       "      <td>GPi</td>\n",
       "      <td>91.8hz-93.8hz</td>\n",
       "      <td>0</td>\n",
       "      <td>0-3</td>\n",
       "      <td>0.448</td>\n",
       "    </tr>\n",
       "    <tr>\n",
       "      <th>827</th>\n",
       "      <td>1.583357e+09</td>\n",
       "      <td>medtronic-rcs-3</td>\n",
       "      <td>GPi</td>\n",
       "      <td>91.8hz-93.8hz</td>\n",
       "      <td>0</td>\n",
       "      <td>0-3</td>\n",
       "      <td>2.581</td>\n",
       "    </tr>\n",
       "    <tr>\n",
       "      <th>828</th>\n",
       "      <td>1.583357e+09</td>\n",
       "      <td>medtronic-rcs-3</td>\n",
       "      <td>GPi</td>\n",
       "      <td>91.8hz-93.8hz</td>\n",
       "      <td>0</td>\n",
       "      <td>0-3</td>\n",
       "      <td>6.472</td>\n",
       "    </tr>\n",
       "    <tr>\n",
       "      <th>829</th>\n",
       "      <td>1.583357e+09</td>\n",
       "      <td>medtronic-rcs-3</td>\n",
       "      <td>GPi</td>\n",
       "      <td>91.8hz-93.8hz</td>\n",
       "      <td>0</td>\n",
       "      <td>0-3</td>\n",
       "      <td>11.206</td>\n",
       "    </tr>\n",
       "  </tbody>\n",
       "</table>\n",
       "<p>830 rows × 7 columns</p>\n",
       "</div>"
      ],
      "text/plain": [
       "        timestamp        algorithm anatomy           band  channel sensor  \\\n",
       "0    1.583357e+09  medtronic-rcs-3     GPi   9.8hz-15.6hz        0    0-3   \n",
       "1    1.583357e+09  medtronic-rcs-3     GPi   9.8hz-15.6hz        0    0-3   \n",
       "2    1.583357e+09  medtronic-rcs-3     GPi   9.8hz-15.6hz        0    0-3   \n",
       "3    1.583357e+09  medtronic-rcs-3     GPi   9.8hz-15.6hz        0    0-3   \n",
       "4    1.583357e+09  medtronic-rcs-3     GPi   9.8hz-15.6hz        0    0-3   \n",
       "..            ...              ...     ...            ...      ...    ...   \n",
       "825  1.583357e+09  medtronic-rcs-3     GPi  91.8hz-93.8hz        0    0-3   \n",
       "826  1.583357e+09  medtronic-rcs-3     GPi  91.8hz-93.8hz        0    0-3   \n",
       "827  1.583357e+09  medtronic-rcs-3     GPi  91.8hz-93.8hz        0    0-3   \n",
       "828  1.583357e+09  medtronic-rcs-3     GPi  91.8hz-93.8hz        0    0-3   \n",
       "829  1.583357e+09  medtronic-rcs-3     GPi  91.8hz-93.8hz        0    0-3   \n",
       "\n",
       "       power  \n",
       "0      4.846  \n",
       "1     54.129  \n",
       "2    235.775  \n",
       "3    527.324  \n",
       "4    928.217  \n",
       "..       ...  \n",
       "825    0.199  \n",
       "826    0.448  \n",
       "827    2.581  \n",
       "828    6.472  \n",
       "829   11.206  \n",
       "\n",
       "[830 rows x 7 columns]"
      ]
     },
     "metadata": {},
     "output_type": "display_data"
    },
    {
     "name": "stdout",
     "output_type": "stream",
     "text": [
      "\n",
      "\n"
     ]
    },
    {
     "data": {
      "text/markdown": [
       "##### availability(power):"
      ],
      "text/plain": [
       "<IPython.core.display.Markdown object>"
      ]
     },
     "metadata": {},
     "output_type": "display_data"
    },
    {
     "name": "stdout",
     "output_type": "stream",
     "text": [
      "\n"
     ]
    },
    {
     "data": {
      "text/html": [
       "<div>\n",
       "<style scoped>\n",
       "    .dataframe tbody tr th:only-of-type {\n",
       "        vertical-align: middle;\n",
       "    }\n",
       "\n",
       "    .dataframe tbody tr th {\n",
       "        vertical-align: top;\n",
       "    }\n",
       "\n",
       "    .dataframe thead th {\n",
       "        text-align: right;\n",
       "    }\n",
       "</style>\n",
       "<table border=\"1\" class=\"dataframe\">\n",
       "  <thead>\n",
       "    <tr style=\"text-align: right;\">\n",
       "      <th></th>\n",
       "      <th>timestamp</th>\n",
       "      <th>algorithm</th>\n",
       "      <th>anatomy</th>\n",
       "      <th>band</th>\n",
       "      <th>channel</th>\n",
       "      <th>sensor</th>\n",
       "      <th>availability</th>\n",
       "    </tr>\n",
       "  </thead>\n",
       "  <tbody>\n",
       "    <tr>\n",
       "      <th>0</th>\n",
       "      <td>1.583357e+09</td>\n",
       "      <td>medtronic-rcs-3</td>\n",
       "      <td>GPi</td>\n",
       "      <td>9.8hz-15.6hz</td>\n",
       "      <td>0</td>\n",
       "      <td>0-3</td>\n",
       "      <td>1</td>\n",
       "    </tr>\n",
       "    <tr>\n",
       "      <th>1</th>\n",
       "      <td>1.583357e+09</td>\n",
       "      <td>medtronic-rcs-3</td>\n",
       "      <td>GPi</td>\n",
       "      <td>9.8hz-15.6hz</td>\n",
       "      <td>0</td>\n",
       "      <td>0-3</td>\n",
       "      <td>1</td>\n",
       "    </tr>\n",
       "    <tr>\n",
       "      <th>2</th>\n",
       "      <td>1.583357e+09</td>\n",
       "      <td>medtronic-rcs-3</td>\n",
       "      <td>GPi</td>\n",
       "      <td>9.8hz-15.6hz</td>\n",
       "      <td>0</td>\n",
       "      <td>0-3</td>\n",
       "      <td>0</td>\n",
       "    </tr>\n",
       "    <tr>\n",
       "      <th>3</th>\n",
       "      <td>1.583357e+09</td>\n",
       "      <td>medtronic-rcs-3</td>\n",
       "      <td>GPi</td>\n",
       "      <td>9.8hz-15.6hz</td>\n",
       "      <td>0</td>\n",
       "      <td>0-3</td>\n",
       "      <td>0</td>\n",
       "    </tr>\n",
       "    <tr>\n",
       "      <th>4</th>\n",
       "      <td>1.583357e+09</td>\n",
       "      <td>medtronic-rcs-3</td>\n",
       "      <td>GPi</td>\n",
       "      <td>9.8hz-15.6hz</td>\n",
       "      <td>0</td>\n",
       "      <td>0-3</td>\n",
       "      <td>0</td>\n",
       "    </tr>\n",
       "    <tr>\n",
       "      <th>...</th>\n",
       "      <td>...</td>\n",
       "      <td>...</td>\n",
       "      <td>...</td>\n",
       "      <td>...</td>\n",
       "      <td>...</td>\n",
       "      <td>...</td>\n",
       "      <td>...</td>\n",
       "    </tr>\n",
       "    <tr>\n",
       "      <th>305</th>\n",
       "      <td>1.583366e+09</td>\n",
       "      <td>medtronic-rcs-3</td>\n",
       "      <td>GPi</td>\n",
       "      <td>91.8hz-93.8hz</td>\n",
       "      <td>0</td>\n",
       "      <td>0-3</td>\n",
       "      <td>0</td>\n",
       "    </tr>\n",
       "    <tr>\n",
       "      <th>306</th>\n",
       "      <td>1.583366e+09</td>\n",
       "      <td>medtronic-rcs-3</td>\n",
       "      <td>GPi</td>\n",
       "      <td>91.8hz-93.8hz</td>\n",
       "      <td>0</td>\n",
       "      <td>0-3</td>\n",
       "      <td>0</td>\n",
       "    </tr>\n",
       "    <tr>\n",
       "      <th>307</th>\n",
       "      <td>1.583366e+09</td>\n",
       "      <td>medtronic-rcs-3</td>\n",
       "      <td>GPi</td>\n",
       "      <td>91.8hz-93.8hz</td>\n",
       "      <td>0</td>\n",
       "      <td>0-3</td>\n",
       "      <td>0</td>\n",
       "    </tr>\n",
       "    <tr>\n",
       "      <th>308</th>\n",
       "      <td>1.583366e+09</td>\n",
       "      <td>medtronic-rcs-3</td>\n",
       "      <td>GPi</td>\n",
       "      <td>91.8hz-93.8hz</td>\n",
       "      <td>0</td>\n",
       "      <td>0-3</td>\n",
       "      <td>0</td>\n",
       "    </tr>\n",
       "    <tr>\n",
       "      <th>309</th>\n",
       "      <td>1.583366e+09</td>\n",
       "      <td>medtronic-rcs-3</td>\n",
       "      <td>GPi</td>\n",
       "      <td>91.8hz-93.8hz</td>\n",
       "      <td>0</td>\n",
       "      <td>0-3</td>\n",
       "      <td>0</td>\n",
       "    </tr>\n",
       "  </tbody>\n",
       "</table>\n",
       "<p>310 rows × 7 columns</p>\n",
       "</div>"
      ],
      "text/plain": [
       "        timestamp        algorithm anatomy           band  channel sensor  \\\n",
       "0    1.583357e+09  medtronic-rcs-3     GPi   9.8hz-15.6hz        0    0-3   \n",
       "1    1.583357e+09  medtronic-rcs-3     GPi   9.8hz-15.6hz        0    0-3   \n",
       "2    1.583357e+09  medtronic-rcs-3     GPi   9.8hz-15.6hz        0    0-3   \n",
       "3    1.583357e+09  medtronic-rcs-3     GPi   9.8hz-15.6hz        0    0-3   \n",
       "4    1.583357e+09  medtronic-rcs-3     GPi   9.8hz-15.6hz        0    0-3   \n",
       "..            ...              ...     ...            ...      ...    ...   \n",
       "305  1.583366e+09  medtronic-rcs-3     GPi  91.8hz-93.8hz        0    0-3   \n",
       "306  1.583366e+09  medtronic-rcs-3     GPi  91.8hz-93.8hz        0    0-3   \n",
       "307  1.583366e+09  medtronic-rcs-3     GPi  91.8hz-93.8hz        0    0-3   \n",
       "308  1.583366e+09  medtronic-rcs-3     GPi  91.8hz-93.8hz        0    0-3   \n",
       "309  1.583366e+09  medtronic-rcs-3     GPi  91.8hz-93.8hz        0    0-3   \n",
       "\n",
       "     availability  \n",
       "0               1  \n",
       "1               1  \n",
       "2               0  \n",
       "3               0  \n",
       "4               0  \n",
       "..            ...  \n",
       "305             0  \n",
       "306             0  \n",
       "307             0  \n",
       "308             0  \n",
       "309             0  \n",
       "\n",
       "[310 rows x 7 columns]"
      ]
     },
     "metadata": {},
     "output_type": "display_data"
    },
    {
     "name": "stdout",
     "output_type": "stream",
     "text": [
      "\n",
      "\n"
     ]
    }
   ],
   "source": [
    "prod_params = {\n",
    "    'patient_id': '9c2ffb54dcab4d54a3dbd05770c2c1c5',\n",
    "    'start_time': '1583357120',\n",
    "    'end_time': '1583366377',\n",
    "    'device_id': '0uuQAj6X'\n",
    "}\n",
    "run_test_requests(prod_params, prod_headers, 'band_power', 'power', extra=False, env=\"prod\")"
   ]
  },
  {
   "cell_type": "code",
   "execution_count": null,
   "id": "872c3fda",
   "metadata": {},
   "outputs": [],
   "source": [
    "prod_params = {\n",
    "    'device_id': '0uuQAj6X',\n",
    "    'symptom': 'tremor',\n",
    "    'patient_id': '9c2ffb54dcab4d54a3dbd05770c2c1c5',\n",
    "    'start_time': '1586210745',\n",
    "    'end_time': '1586229747',\n",
    "    'resolution': '3000',\n",
    "    'partition_size': '288',\n",
    "    'timestamp': 'datetime',\n",
    "    'timezone': '-14400',\n",
    "    'severity': '*'\n",
    "}\n",
    "run_test_requests(prod_params, prod_headers, 'probability_symptom', 'probability', env='prod')"
   ]
  }
 ],
 "metadata": {
  "kernelspec": {
   "display_name": "Python 3 (ipykernel)",
   "language": "python",
   "name": "python3"
  },
  "language_info": {
   "codemirror_mode": {
    "name": "ipython",
    "version": 3
   },
   "file_extension": ".py",
   "mimetype": "text/x-python",
   "name": "python",
   "nbconvert_exporter": "python",
   "pygments_lexer": "ipython3",
   "version": "3.9.7"
  }
 },
 "nbformat": 4,
 "nbformat_minor": 5
}
