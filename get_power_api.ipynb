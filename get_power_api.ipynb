{
 "cells": [
  {
   "cell_type": "markdown",
   "id": "10d58026",
   "metadata": {},
   "source": [
    "# This is the how you can pull data from the API"
   ]
  },
  {
   "cell_type": "markdown",
   "id": "588d6746",
   "metadata": {},
   "source": [
    "Make sure that you're staging/production credentials `yaml` is structured like so:\n",
    "\n",
    "```\n",
    "access_token_id: API_TOKEN_ID\n",
    "access_token_secret: API_TOKEN_SECRET\n",
    "```"
   ]
  },
  {
   "cell_type": "code",
   "execution_count": 245,
   "id": "013348e4",
   "metadata": {},
   "outputs": [],
   "source": [
    "import datetime as dt\n",
    "import io\n",
    "import json\n",
    "import jsbeautifier\n",
    "import matplotlib.pyplot as plt\n",
    "import os\n",
    "import pandas as pd\n",
    "import requests\n",
    "from runeq import Config, stream\n",
    "from scipy import stats\n",
    "import yaml\n",
    "from IPython.display import display, Markdown\n",
    "from IPython.core import display as ICD"
   ]
  },
  {
   "cell_type": "code",
   "execution_count": 251,
   "id": "57016194",
   "metadata": {},
   "outputs": [],
   "source": [
    "def run_test_requests(\n",
    "    params: dict, \n",
    "    headers, \n",
    "    endpoint, \n",
    "    field_name, \n",
    "    env='staging', \n",
    "    extra=True\n",
    "):\n",
    "    \"\"\"\n",
    "    Run a full suite of tests.\n",
    "    params\n",
    "        params for the request\n",
    "    headers:\n",
    "        client / user credentials\n",
    "    endpoint:\n",
    "        name of endpoint that you are querying from e.g. band_power, probability_symptom\n",
    "    field_name\n",
    "        name of the measurement e.g. power, probability\n",
    "    env\n",
    "        staging, production, or local\n",
    "    extra\n",
    "        runs tests for extra querying expressions e.g. first, last, mean, median\n",
    "    \"\"\"\n",
    "    \n",
    "    if env=='local':\n",
    "        json_url = f'http://localhost:8080/v1/{endpoint}.csv'\n",
    "        json_url = f'http://localhost:8080/v1/{endpoint}.json'\n",
    "\n",
    "    elif env=='staging':\n",
    "        json_url = f'https://stream-staging.runelabs.io/v1/{endpoint}.json'\n",
    "        csv_url = f'https://stream-staging.runelabs.io/v1/{endpoint}.csv'\n",
    "\n",
    "    elif env=='prod':\n",
    "        json_url = f'https://stream.runelabs.io/v1/{endpoint}.json'\n",
    "        csv_url = f'https://stream.runelabs.io/v1/{endpoint}.csv'\n",
    "    else:\n",
    "        raise ValueError('Unknown envinrontment')\n",
    "\n",
    "    display(Markdown('#### JSON'))\n",
    "    json_params = params\n",
    "    availability_params = json_params | {'expression': f'availability({field_name})'}\n",
    "    response = requests.get(json_url, params=json_params, headers=headers)\n",
    "    availability_response = requests.get(json_url, params=availability_params, headers=headers)\n",
    "    display(Markdown(f'##### {field_name}:'))\n",
    "    ppjson(response.json())\n",
    "    display(Markdown(f'##### availability({field_name}):'))\n",
    "    ppjson(availability_response.json())\n",
    "\n",
    "    if extra:\n",
    "        for exp in ['first', 'mean', 'median', 'last']:\n",
    "            exp_params = json_params | {'expression': f'{exp}({field_name})'}\n",
    "            resp = requests.get(json_url, params=exp_params, headers=headers)\n",
    "            display(Markdown(f'##### {exp}({field_name}):'))\n",
    "            ppjson(resp.json())\n",
    "\n",
    "    csv_params = {k:v for k,v in json_params.items() if k != 'partition_size'}\n",
    "    availability_csv_params = csv_params | {'expression': f'availability({field_name})'}\n",
    "    response = requests.get(csv_url, params=csv_params, headers=headers)\n",
    "    availability_response = requests.get(\n",
    "        csv_url, params=availability_csv_params, headers=headers)\n",
    "    \n",
    "    display(Markdown('#### CSV'))\n",
    "    display(Markdown(f'##### {field_name}:'))\n",
    "    ppcsv(response=response)\n",
    "    display(Markdown(f'##### availability({field_name}):'))\n",
    "    ppcsv(response=availability_response)\n",
    "\n",
    "\n",
    "    if extra:\n",
    "        for exp in ['first', 'mean', 'median', 'last']:\n",
    "            exp_params = csv_params | {'expression': f'{exp}({field_name})'}\n",
    "            resp = requests.get(csv_url, params=exp_params, headers=headers)\n",
    "            display(Markdown(f'##### {exp}({field_name}):'))\n",
    "            ppcsv(response=resp)"
   ]
  },
  {
   "cell_type": "code",
   "execution_count": 234,
   "id": "8b9d1ef3",
   "metadata": {},
   "outputs": [],
   "source": [
    "def ppjson(*args):\n",
    "    \"\"\"\n",
    "    Pretty prints JSON so that long array are printed on one line\n",
    "    \"\"\"\n",
    "    new_args = []\n",
    "    for i, arg in enumerate(args):\n",
    "        if type(arg) == dict:\n",
    "            arg = jsbeautifier.beautify(json.dumps(arg), options)\n",
    "        new_args.append(arg)\n",
    "    print(*new_args)\n",
    "    print('\\n')"
   ]
  },
  {
   "cell_type": "code",
   "execution_count": 241,
   "id": "7543af83",
   "metadata": {
    "scrolled": false
   },
   "outputs": [],
   "source": [
    "def ppcsv(*args, response):\n",
    "    \"\"\"\n",
    "    Prints CSV in a dataframe format\n",
    "    \"\"\"\n",
    "    print(*args)\n",
    "    df = pd.read_csv(io.StringIO(response.text))\n",
    "    display(df)\n",
    "    print('\\n')"
   ]
  },
  {
   "cell_type": "markdown",
   "id": "1c67b9d6",
   "metadata": {},
   "source": [
    "## Local"
   ]
  },
  {
   "cell_type": "markdown",
   "id": "7539c67f",
   "metadata": {},
   "source": [
    "#### v1/event.json"
   ]
  },
  {
   "cell_type": "code",
   "execution_count": 94,
   "id": "4d5d2d4c",
   "metadata": {},
   "outputs": [],
   "source": [
    "params = {\n",
    "    'patient_id': 'dangerzonepatient', \n",
    "    'start_time': '1567566520',\n",
    "    'end_time': '1567566530',\n",
    "    'device_id': 'kp0ArnOK', #fake_percept\n",
    "    'event': 'clinical'\n",
    "}\n",
    "response = requests.get('http://localhost:8080/v1/event.json', params=params)"
   ]
  },
  {
   "cell_type": "markdown",
   "id": "3abff324",
   "metadata": {},
   "source": [
    "## Staging"
   ]
  },
  {
   "cell_type": "code",
   "execution_count": 8,
   "id": "409cd7be",
   "metadata": {},
   "outputs": [],
   "source": [
    "config_path = '/Users/poorv/.rune/api-config-staging.yaml'\n",
    "with open(config_path) as f:\n",
    "    credentials = yaml.safe_load(f)\n",
    "    \n",
    "headers = {\n",
    "    'X-Rune-User-Access-Token-Id': credentials['access_token_id'],\n",
    "    'X-Rune-User-Access-Token-Secret': credentials['access_token_secret']\n",
    "}"
   ]
  },
  {
   "cell_type": "markdown",
   "id": "47004ab7",
   "metadata": {},
   "source": [
    "#### v1/accel"
   ]
  },
  {
   "cell_type": "code",
   "execution_count": 252,
   "id": "7164dc0f",
   "metadata": {
    "scrolled": false
   },
   "outputs": [
    {
     "data": {
      "text/markdown": [
       "#### JSON"
      ],
      "text/plain": [
       "<IPython.core.display.Markdown object>"
      ]
     },
     "metadata": {},
     "output_type": "display_data"
    },
    {
     "data": {
      "text/markdown": [
       "##### accel:"
      ],
      "text/plain": [
       "<IPython.core.display.Markdown object>"
      ]
     },
     "metadata": {},
     "output_type": "display_data"
    },
    {
     "name": "stdout",
     "output_type": "stream",
     "text": [
      "{\n",
      "  \"result\": {\n",
      "    \"cardinality\": 4,\n",
      "    \"time\": [1626126000, 1626132000, 1626138000, 1626144000],\n",
      "    \"x\": [-0.6352692246437073, 0.11776725947856903, -0.04504386708140373, -0.5210418701171875],\n",
      "    \"y\": [0.2354431450366974, 1.0323182344436646, 0.4831390678882599, 0.6363219618797302],\n",
      "    \"z\": [-0.7210692763328552, 0.12341313064098358, -0.8650969862937927, -0.1139983981847763]\n",
      "  },\n",
      "  \"success\": true\n",
      "}\n",
      "\n",
      "\n"
     ]
    },
    {
     "data": {
      "text/markdown": [
       "##### availability(accel):"
      ],
      "text/plain": [
       "<IPython.core.display.Markdown object>"
      ]
     },
     "metadata": {},
     "output_type": "display_data"
    },
    {
     "name": "stdout",
     "output_type": "stream",
     "text": [
      "{\n",
      "  \"result\": {\n",
      "    \"availability(accel)\": [1, 1, 1, 1],\n",
      "    \"cardinality\": 4,\n",
      "    \"time\": [1626126000, 1626132000, 1626138000, 1626144000]\n",
      "  },\n",
      "  \"success\": true\n",
      "}\n",
      "\n",
      "\n"
     ]
    },
    {
     "data": {
      "text/markdown": [
       "##### first(accel):"
      ],
      "text/plain": [
       "<IPython.core.display.Markdown object>"
      ]
     },
     "metadata": {},
     "output_type": "display_data"
    },
    {
     "name": "stdout",
     "output_type": "stream",
     "text": [
      "{\n",
      "  \"result\": {\n",
      "    \"cardinality\": 4,\n",
      "    \"time\": [1626126000, 1626132000, 1626138000, 1626144000],\n",
      "    \"x\": [-0.6352692246437073, 0.11776725947856903, -0.04504386708140373, -0.5210418701171875],\n",
      "    \"y\": [0.2354431450366974, 1.0323182344436646, 0.4831390678882599, 0.6363219618797302],\n",
      "    \"z\": [-0.7210692763328552, 0.12341313064098358, -0.8650969862937927, -0.1139983981847763]\n",
      "  },\n",
      "  \"success\": true\n",
      "}\n",
      "\n",
      "\n"
     ]
    },
    {
     "data": {
      "text/markdown": [
       "##### mean(accel):"
      ],
      "text/plain": [
       "<IPython.core.display.Markdown object>"
      ]
     },
     "metadata": {},
     "output_type": "display_data"
    },
    {
     "name": "stdout",
     "output_type": "stream",
     "text": [
      "{\n",
      "  \"result\": {\n",
      "    \"cardinality\": 4,\n",
      "    \"time\": [1626126000, 1626132000, 1626138000, 1626144000],\n",
      "    \"x\": [0.10436013272610205, 0.3620813859222072, 0.11906459814935871, -0.002121317670423799],\n",
      "    \"y\": [0.5650245982921615, 0.5792278084266329, 0.5533469481901504, 0.5790462968260683],\n",
      "    \"z\": [-0.0053037168434479426, -0.1110470964492736, -0.25487837536656094, -0.10629003152242059]\n",
      "  },\n",
      "  \"success\": true\n",
      "}\n",
      "\n",
      "\n"
     ]
    },
    {
     "data": {
      "text/markdown": [
       "##### median(accel):"
      ],
      "text/plain": [
       "<IPython.core.display.Markdown object>"
      ]
     },
     "metadata": {},
     "output_type": "display_data"
    },
    {
     "name": "stdout",
     "output_type": "stream",
     "text": [
      "{\n",
      "  \"result\": {\n",
      "    \"cardinality\": 4,\n",
      "    \"time\": [1626126000, 1626132000, 1626138000, 1626144000],\n",
      "    \"x\": [-0.027790135703980923, 0.3450814113020897, 0.03513547033071518, -0.033143213018774986],\n",
      "    \"y\": [0.5193381905555725, 0.5898779481649399, 0.6940972805023193, 0.7077281177043915],\n",
      "    \"z\": [-0.04432694800198078, -0.14331799000501633, -0.31392616033554077, -0.17338377982378006]\n",
      "  },\n",
      "  \"success\": true\n",
      "}\n",
      "\n",
      "\n"
     ]
    },
    {
     "data": {
      "text/markdown": [
       "##### last(accel):"
      ],
      "text/plain": [
       "<IPython.core.display.Markdown object>"
      ]
     },
     "metadata": {},
     "output_type": "display_data"
    },
    {
     "name": "stdout",
     "output_type": "stream",
     "text": [
      "{\n",
      "  \"result\": {\n",
      "    \"cardinality\": 4,\n",
      "    \"time\": [1626126000, 1626132000, 1626138000, 1626144000],\n",
      "    \"x\": [0.05422970652580261, -0.062164243310689926, -0.5176697373390198, 0.05531317740678787],\n",
      "    \"y\": [0.9506837129592896, 0.4813995957374573, 0.5871428847312927, -0.2262878119945526],\n",
      "    \"z\": [0.06051638722419739, -0.8540191650390625, -0.1164550706744194, -0.9775390625]\n",
      "  },\n",
      "  \"success\": true\n",
      "}\n",
      "\n",
      "\n"
     ]
    },
    {
     "data": {
      "text/markdown": [
       "#### CSV"
      ],
      "text/plain": [
       "<IPython.core.display.Markdown object>"
      ]
     },
     "metadata": {},
     "output_type": "display_data"
    },
    {
     "data": {
      "text/markdown": [
       "##### accel:"
      ],
      "text/plain": [
       "<IPython.core.display.Markdown object>"
      ]
     },
     "metadata": {},
     "output_type": "display_data"
    },
    {
     "name": "stdout",
     "output_type": "stream",
     "text": [
      "\n"
     ]
    },
    {
     "data": {
      "text/html": [
       "<div>\n",
       "<style scoped>\n",
       "    .dataframe tbody tr th:only-of-type {\n",
       "        vertical-align: middle;\n",
       "    }\n",
       "\n",
       "    .dataframe tbody tr th {\n",
       "        vertical-align: top;\n",
       "    }\n",
       "\n",
       "    .dataframe thead th {\n",
       "        text-align: right;\n",
       "    }\n",
       "</style>\n",
       "<table border=\"1\" class=\"dataframe\">\n",
       "  <thead>\n",
       "    <tr style=\"text-align: right;\">\n",
       "      <th></th>\n",
       "      <th>time</th>\n",
       "      <th>x</th>\n",
       "      <th>y</th>\n",
       "      <th>z</th>\n",
       "    </tr>\n",
       "  </thead>\n",
       "  <tbody>\n",
       "    <tr>\n",
       "      <th>0</th>\n",
       "      <td>1.626126e+09</td>\n",
       "      <td>-0.635269</td>\n",
       "      <td>0.235443</td>\n",
       "      <td>-0.721069</td>\n",
       "    </tr>\n",
       "    <tr>\n",
       "      <th>1</th>\n",
       "      <td>1.626132e+09</td>\n",
       "      <td>0.117767</td>\n",
       "      <td>1.032318</td>\n",
       "      <td>0.123413</td>\n",
       "    </tr>\n",
       "    <tr>\n",
       "      <th>2</th>\n",
       "      <td>1.626138e+09</td>\n",
       "      <td>-0.045044</td>\n",
       "      <td>0.483139</td>\n",
       "      <td>-0.865097</td>\n",
       "    </tr>\n",
       "    <tr>\n",
       "      <th>3</th>\n",
       "      <td>1.626144e+09</td>\n",
       "      <td>-0.521042</td>\n",
       "      <td>0.636322</td>\n",
       "      <td>-0.113998</td>\n",
       "    </tr>\n",
       "  </tbody>\n",
       "</table>\n",
       "</div>"
      ],
      "text/plain": [
       "           time         x         y         z\n",
       "0  1.626126e+09 -0.635269  0.235443 -0.721069\n",
       "1  1.626132e+09  0.117767  1.032318  0.123413\n",
       "2  1.626138e+09 -0.045044  0.483139 -0.865097\n",
       "3  1.626144e+09 -0.521042  0.636322 -0.113998"
      ]
     },
     "metadata": {},
     "output_type": "display_data"
    },
    {
     "name": "stdout",
     "output_type": "stream",
     "text": [
      "\n",
      "\n"
     ]
    },
    {
     "data": {
      "text/markdown": [
       "##### availability(accel):"
      ],
      "text/plain": [
       "<IPython.core.display.Markdown object>"
      ]
     },
     "metadata": {},
     "output_type": "display_data"
    },
    {
     "name": "stdout",
     "output_type": "stream",
     "text": [
      "\n"
     ]
    },
    {
     "data": {
      "text/html": [
       "<div>\n",
       "<style scoped>\n",
       "    .dataframe tbody tr th:only-of-type {\n",
       "        vertical-align: middle;\n",
       "    }\n",
       "\n",
       "    .dataframe tbody tr th {\n",
       "        vertical-align: top;\n",
       "    }\n",
       "\n",
       "    .dataframe thead th {\n",
       "        text-align: right;\n",
       "    }\n",
       "</style>\n",
       "<table border=\"1\" class=\"dataframe\">\n",
       "  <thead>\n",
       "    <tr style=\"text-align: right;\">\n",
       "      <th></th>\n",
       "      <th>time</th>\n",
       "      <th>availability</th>\n",
       "    </tr>\n",
       "  </thead>\n",
       "  <tbody>\n",
       "    <tr>\n",
       "      <th>0</th>\n",
       "      <td>1.626126e+09</td>\n",
       "      <td>1</td>\n",
       "    </tr>\n",
       "    <tr>\n",
       "      <th>1</th>\n",
       "      <td>1.626132e+09</td>\n",
       "      <td>1</td>\n",
       "    </tr>\n",
       "    <tr>\n",
       "      <th>2</th>\n",
       "      <td>1.626138e+09</td>\n",
       "      <td>1</td>\n",
       "    </tr>\n",
       "    <tr>\n",
       "      <th>3</th>\n",
       "      <td>1.626144e+09</td>\n",
       "      <td>1</td>\n",
       "    </tr>\n",
       "  </tbody>\n",
       "</table>\n",
       "</div>"
      ],
      "text/plain": [
       "           time  availability\n",
       "0  1.626126e+09             1\n",
       "1  1.626132e+09             1\n",
       "2  1.626138e+09             1\n",
       "3  1.626144e+09             1"
      ]
     },
     "metadata": {},
     "output_type": "display_data"
    },
    {
     "name": "stdout",
     "output_type": "stream",
     "text": [
      "\n",
      "\n"
     ]
    },
    {
     "data": {
      "text/markdown": [
       "##### first(accel):"
      ],
      "text/plain": [
       "<IPython.core.display.Markdown object>"
      ]
     },
     "metadata": {},
     "output_type": "display_data"
    },
    {
     "name": "stdout",
     "output_type": "stream",
     "text": [
      "\n"
     ]
    },
    {
     "data": {
      "text/html": [
       "<div>\n",
       "<style scoped>\n",
       "    .dataframe tbody tr th:only-of-type {\n",
       "        vertical-align: middle;\n",
       "    }\n",
       "\n",
       "    .dataframe tbody tr th {\n",
       "        vertical-align: top;\n",
       "    }\n",
       "\n",
       "    .dataframe thead th {\n",
       "        text-align: right;\n",
       "    }\n",
       "</style>\n",
       "<table border=\"1\" class=\"dataframe\">\n",
       "  <thead>\n",
       "    <tr style=\"text-align: right;\">\n",
       "      <th></th>\n",
       "      <th>time</th>\n",
       "      <th>x</th>\n",
       "      <th>y</th>\n",
       "      <th>z</th>\n",
       "    </tr>\n",
       "  </thead>\n",
       "  <tbody>\n",
       "    <tr>\n",
       "      <th>0</th>\n",
       "      <td>1.626126e+09</td>\n",
       "      <td>-0.635269</td>\n",
       "      <td>0.235443</td>\n",
       "      <td>-0.721069</td>\n",
       "    </tr>\n",
       "    <tr>\n",
       "      <th>1</th>\n",
       "      <td>1.626132e+09</td>\n",
       "      <td>0.117767</td>\n",
       "      <td>1.032318</td>\n",
       "      <td>0.123413</td>\n",
       "    </tr>\n",
       "    <tr>\n",
       "      <th>2</th>\n",
       "      <td>1.626138e+09</td>\n",
       "      <td>-0.045044</td>\n",
       "      <td>0.483139</td>\n",
       "      <td>-0.865097</td>\n",
       "    </tr>\n",
       "    <tr>\n",
       "      <th>3</th>\n",
       "      <td>1.626144e+09</td>\n",
       "      <td>-0.521042</td>\n",
       "      <td>0.636322</td>\n",
       "      <td>-0.113998</td>\n",
       "    </tr>\n",
       "  </tbody>\n",
       "</table>\n",
       "</div>"
      ],
      "text/plain": [
       "           time         x         y         z\n",
       "0  1.626126e+09 -0.635269  0.235443 -0.721069\n",
       "1  1.626132e+09  0.117767  1.032318  0.123413\n",
       "2  1.626138e+09 -0.045044  0.483139 -0.865097\n",
       "3  1.626144e+09 -0.521042  0.636322 -0.113998"
      ]
     },
     "metadata": {},
     "output_type": "display_data"
    },
    {
     "name": "stdout",
     "output_type": "stream",
     "text": [
      "\n",
      "\n"
     ]
    },
    {
     "data": {
      "text/markdown": [
       "##### mean(accel):"
      ],
      "text/plain": [
       "<IPython.core.display.Markdown object>"
      ]
     },
     "metadata": {},
     "output_type": "display_data"
    },
    {
     "name": "stdout",
     "output_type": "stream",
     "text": [
      "\n"
     ]
    },
    {
     "data": {
      "text/html": [
       "<div>\n",
       "<style scoped>\n",
       "    .dataframe tbody tr th:only-of-type {\n",
       "        vertical-align: middle;\n",
       "    }\n",
       "\n",
       "    .dataframe tbody tr th {\n",
       "        vertical-align: top;\n",
       "    }\n",
       "\n",
       "    .dataframe thead th {\n",
       "        text-align: right;\n",
       "    }\n",
       "</style>\n",
       "<table border=\"1\" class=\"dataframe\">\n",
       "  <thead>\n",
       "    <tr style=\"text-align: right;\">\n",
       "      <th></th>\n",
       "      <th>time</th>\n",
       "      <th>x</th>\n",
       "      <th>y</th>\n",
       "      <th>z</th>\n",
       "    </tr>\n",
       "  </thead>\n",
       "  <tbody>\n",
       "    <tr>\n",
       "      <th>0</th>\n",
       "      <td>1.626126e+09</td>\n",
       "      <td>0.104360</td>\n",
       "      <td>0.565025</td>\n",
       "      <td>-0.005304</td>\n",
       "    </tr>\n",
       "    <tr>\n",
       "      <th>1</th>\n",
       "      <td>1.626132e+09</td>\n",
       "      <td>0.362081</td>\n",
       "      <td>0.579228</td>\n",
       "      <td>-0.111047</td>\n",
       "    </tr>\n",
       "    <tr>\n",
       "      <th>2</th>\n",
       "      <td>1.626138e+09</td>\n",
       "      <td>0.119065</td>\n",
       "      <td>0.553347</td>\n",
       "      <td>-0.254878</td>\n",
       "    </tr>\n",
       "    <tr>\n",
       "      <th>3</th>\n",
       "      <td>1.626144e+09</td>\n",
       "      <td>-0.002121</td>\n",
       "      <td>0.579046</td>\n",
       "      <td>-0.106290</td>\n",
       "    </tr>\n",
       "  </tbody>\n",
       "</table>\n",
       "</div>"
      ],
      "text/plain": [
       "           time         x         y         z\n",
       "0  1.626126e+09  0.104360  0.565025 -0.005304\n",
       "1  1.626132e+09  0.362081  0.579228 -0.111047\n",
       "2  1.626138e+09  0.119065  0.553347 -0.254878\n",
       "3  1.626144e+09 -0.002121  0.579046 -0.106290"
      ]
     },
     "metadata": {},
     "output_type": "display_data"
    },
    {
     "name": "stdout",
     "output_type": "stream",
     "text": [
      "\n",
      "\n"
     ]
    },
    {
     "data": {
      "text/markdown": [
       "##### median(accel):"
      ],
      "text/plain": [
       "<IPython.core.display.Markdown object>"
      ]
     },
     "metadata": {},
     "output_type": "display_data"
    },
    {
     "name": "stdout",
     "output_type": "stream",
     "text": [
      "\n"
     ]
    },
    {
     "data": {
      "text/html": [
       "<div>\n",
       "<style scoped>\n",
       "    .dataframe tbody tr th:only-of-type {\n",
       "        vertical-align: middle;\n",
       "    }\n",
       "\n",
       "    .dataframe tbody tr th {\n",
       "        vertical-align: top;\n",
       "    }\n",
       "\n",
       "    .dataframe thead th {\n",
       "        text-align: right;\n",
       "    }\n",
       "</style>\n",
       "<table border=\"1\" class=\"dataframe\">\n",
       "  <thead>\n",
       "    <tr style=\"text-align: right;\">\n",
       "      <th></th>\n",
       "      <th>time</th>\n",
       "      <th>x</th>\n",
       "      <th>y</th>\n",
       "      <th>z</th>\n",
       "    </tr>\n",
       "  </thead>\n",
       "  <tbody>\n",
       "    <tr>\n",
       "      <th>0</th>\n",
       "      <td>1.626126e+09</td>\n",
       "      <td>-0.027790</td>\n",
       "      <td>0.519338</td>\n",
       "      <td>-0.044327</td>\n",
       "    </tr>\n",
       "    <tr>\n",
       "      <th>1</th>\n",
       "      <td>1.626132e+09</td>\n",
       "      <td>0.345081</td>\n",
       "      <td>0.589878</td>\n",
       "      <td>-0.143318</td>\n",
       "    </tr>\n",
       "    <tr>\n",
       "      <th>2</th>\n",
       "      <td>1.626138e+09</td>\n",
       "      <td>0.035135</td>\n",
       "      <td>0.694097</td>\n",
       "      <td>-0.313926</td>\n",
       "    </tr>\n",
       "    <tr>\n",
       "      <th>3</th>\n",
       "      <td>1.626144e+09</td>\n",
       "      <td>-0.033143</td>\n",
       "      <td>0.707728</td>\n",
       "      <td>-0.173384</td>\n",
       "    </tr>\n",
       "  </tbody>\n",
       "</table>\n",
       "</div>"
      ],
      "text/plain": [
       "           time         x         y         z\n",
       "0  1.626126e+09 -0.027790  0.519338 -0.044327\n",
       "1  1.626132e+09  0.345081  0.589878 -0.143318\n",
       "2  1.626138e+09  0.035135  0.694097 -0.313926\n",
       "3  1.626144e+09 -0.033143  0.707728 -0.173384"
      ]
     },
     "metadata": {},
     "output_type": "display_data"
    },
    {
     "name": "stdout",
     "output_type": "stream",
     "text": [
      "\n",
      "\n"
     ]
    },
    {
     "data": {
      "text/markdown": [
       "##### last(accel):"
      ],
      "text/plain": [
       "<IPython.core.display.Markdown object>"
      ]
     },
     "metadata": {},
     "output_type": "display_data"
    },
    {
     "name": "stdout",
     "output_type": "stream",
     "text": [
      "\n"
     ]
    },
    {
     "data": {
      "text/html": [
       "<div>\n",
       "<style scoped>\n",
       "    .dataframe tbody tr th:only-of-type {\n",
       "        vertical-align: middle;\n",
       "    }\n",
       "\n",
       "    .dataframe tbody tr th {\n",
       "        vertical-align: top;\n",
       "    }\n",
       "\n",
       "    .dataframe thead th {\n",
       "        text-align: right;\n",
       "    }\n",
       "</style>\n",
       "<table border=\"1\" class=\"dataframe\">\n",
       "  <thead>\n",
       "    <tr style=\"text-align: right;\">\n",
       "      <th></th>\n",
       "      <th>time</th>\n",
       "      <th>x</th>\n",
       "      <th>y</th>\n",
       "      <th>z</th>\n",
       "    </tr>\n",
       "  </thead>\n",
       "  <tbody>\n",
       "    <tr>\n",
       "      <th>0</th>\n",
       "      <td>1.626126e+09</td>\n",
       "      <td>0.054230</td>\n",
       "      <td>0.950684</td>\n",
       "      <td>0.060516</td>\n",
       "    </tr>\n",
       "    <tr>\n",
       "      <th>1</th>\n",
       "      <td>1.626132e+09</td>\n",
       "      <td>-0.062164</td>\n",
       "      <td>0.481400</td>\n",
       "      <td>-0.854019</td>\n",
       "    </tr>\n",
       "    <tr>\n",
       "      <th>2</th>\n",
       "      <td>1.626138e+09</td>\n",
       "      <td>-0.517670</td>\n",
       "      <td>0.587143</td>\n",
       "      <td>-0.116455</td>\n",
       "    </tr>\n",
       "    <tr>\n",
       "      <th>3</th>\n",
       "      <td>1.626144e+09</td>\n",
       "      <td>0.055313</td>\n",
       "      <td>-0.226288</td>\n",
       "      <td>-0.977539</td>\n",
       "    </tr>\n",
       "  </tbody>\n",
       "</table>\n",
       "</div>"
      ],
      "text/plain": [
       "           time         x         y         z\n",
       "0  1.626126e+09  0.054230  0.950684  0.060516\n",
       "1  1.626132e+09 -0.062164  0.481400 -0.854019\n",
       "2  1.626138e+09 -0.517670  0.587143 -0.116455\n",
       "3  1.626144e+09  0.055313 -0.226288 -0.977539"
      ]
     },
     "metadata": {},
     "output_type": "display_data"
    },
    {
     "name": "stdout",
     "output_type": "stream",
     "text": [
      "\n",
      "\n"
     ]
    }
   ],
   "source": [
    "params = {\n",
    "    'device_id': 'OXWME382',\n",
    "    'patient_id': 'acd84ff341f54588a0eb6afb1173a2f1',\n",
    "    'start_time': '1626128333',\n",
    "    'end_time': '1626147851',\n",
    "   'resolution': '6000',\n",
    "}\n",
    "run_test_requests(params, headers, 'accel', 'accel')"
   ]
  },
  {
   "cell_type": "markdown",
   "id": "92ca7526",
   "metadata": {},
   "source": [
    "#### v1/band_power"
   ]
  },
  {
   "cell_type": "code",
   "execution_count": null,
   "id": "44a79349",
   "metadata": {},
   "outputs": [],
   "source": [
    "params = {\n",
    "    'patient_id': '1ce0cbb08eeb4986af2ee7d965e0f505',\n",
    "    'start_time': '1583357120',\n",
    "    'end_time': '1583366377',\n",
    "    'device_id': 'kp0ArnOK'\n",
    "}\n",
    "run_test_requests(params, headers, 'band_power', 'power', extra=False)"
   ]
  },
  {
   "cell_type": "markdown",
   "id": "d770fda9",
   "metadata": {},
   "source": [
    "#### v1/probability_symptom"
   ]
  },
  {
   "cell_type": "code",
   "execution_count": null,
   "id": "595a21ac",
   "metadata": {},
   "outputs": [],
   "source": [
    "params = {\n",
    "    'device_id': 'kp0ArnOK',\n",
    "    'symptom': 'tremor',\n",
    "    'patient_id': '1ce0cbb08eeb4986af2ee7d965e0f505',\n",
    "    'start_time': '1586210745',\n",
    "    'end_time': '1586229747',\n",
    "    'resolution': '3000',\n",
    "    'partition_size': '288',\n",
    "    'timestamp': 'datetime',\n",
    "    'timezone': '-14400',\n",
    "    'severity': '*'\n",
    "}\n",
    "run_test_requests(params, headers, 'probability_symptom', 'probability')"
   ]
  },
  {
   "cell_type": "markdown",
   "id": "be350da5",
   "metadata": {},
   "source": [
    "## Production"
   ]
  },
  {
   "cell_type": "code",
   "execution_count": 236,
   "id": "5bfe8780",
   "metadata": {},
   "outputs": [],
   "source": [
    "prod_config_path = '/Users/poorv/.rune/api-config-production.yaml'\n",
    "with open(prod_config_path) as f:\n",
    "    production_credentials = yaml.safe_load(f)\n",
    "    \n",
    "prod_headers = {\n",
    "    'X-Rune-User-Access-Token-Id': production_credentials['access_token_id'],\n",
    "    'X-Rune-User-Access-Token-Secret': production_credentials['access_token_secret']\n",
    "}"
   ]
  },
  {
   "cell_type": "markdown",
   "id": "3fbcd86c",
   "metadata": {},
   "source": [
    "#### v1/band_power"
   ]
  },
  {
   "cell_type": "code",
   "execution_count": null,
   "id": "41dc164c",
   "metadata": {},
   "outputs": [],
   "source": [
    "prod_params = {\n",
    "    'patient_id': '9c2ffb54dcab4d54a3dbd05770c2c1c5',\n",
    "    'start_time': '1583357120',\n",
    "    'end_time': '1583366377',\n",
    "    'device_id': '0uuQAj6X'\n",
    "}\n",
    "run_test_requests(prod_params, prod_headers, 'band_power', 'power', extra=False, env=\"prod\")"
   ]
  },
  {
   "cell_type": "code",
   "execution_count": null,
   "id": "872c3fda",
   "metadata": {},
   "outputs": [],
   "source": [
    "prod_params = {\n",
    "    'device_id': '0uuQAj6X',\n",
    "    'symptom': 'tremor',\n",
    "    'patient_id': '9c2ffb54dcab4d54a3dbd05770c2c1c5',\n",
    "    'start_time': '1586210745',\n",
    "    'end_time': '1586229747',\n",
    "    'resolution': '3000',\n",
    "    'partition_size': '288',\n",
    "    'timestamp': 'datetime',\n",
    "    'timezone': '-14400',\n",
    "    'severity': '*'\n",
    "}\n",
    "run_test_requests(prod_params, prod_headers, 'probability_symptom', 'probability', env='prod')"
   ]
  },
  {
   "cell_type": "code",
   "execution_count": null,
   "id": "ccd68ec0",
   "metadata": {},
   "outputs": [],
   "source": []
  }
 ],
 "metadata": {
  "kernelspec": {
   "display_name": "Python 3",
   "language": "python",
   "name": "python3"
  },
  "language_info": {
   "codemirror_mode": {
    "name": "ipython",
    "version": 3
   },
   "file_extension": ".py",
   "mimetype": "text/x-python",
   "name": "python",
   "nbconvert_exporter": "python",
   "pygments_lexer": "ipython3",
   "version": "3.9.4"
  }
 },
 "nbformat": 4,
 "nbformat_minor": 5
}
