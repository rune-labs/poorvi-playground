{
 "cells": [
  {
   "cell_type": "markdown",
   "id": "10d58026",
   "metadata": {},
   "source": [
    "# This is the how you can pull data from the API"
   ]
  },
  {
   "cell_type": "code",
   "execution_count": null,
   "id": "013348e4",
   "metadata": {},
   "outputs": [],
   "source": [
    "import datetime as dt\n",
    "import io\n",
    "import json\n",
    "import matplotlib.pyplot as plt\n",
    "import os\n",
    "import pandas as pd\n",
    "import requests\n",
    "from runeq import Config, stream\n",
    "from scipy import stats\n",
    "import yaml"
   ]
  },
  {
   "cell_type": "code",
   "execution_count": null,
   "id": "57016194",
   "metadata": {},
   "outputs": [],
   "source": [
    "def run_test_requests(params: dict, headers, endpoint, field_name, env='staging', extra=True):\n",
    "    \"\"\"\n",
    "    Run a full suite of tests.\n",
    "    params\n",
    "        params for the request\n",
    "    headers:\n",
    "        client / user credentials\n",
    "    endpoint:\n",
    "        name of endpoint that you are querying from e.g. band_power, probability_symptom\n",
    "    field_name\n",
    "        name of the measurement e.g. power, probability\n",
    "    env\n",
    "        staging, production, or local\n",
    "    extra\n",
    "        runs tests for extra querying expressions e.g. first, last, mean, median\n",
    "    \"\"\"\n",
    "\n",
    "    if env=='staging':\n",
    "        json_url = f'https://stream-staging.runelabs.io/v1/{endpoint}.json'\n",
    "        csv_url = f'https://stream-staging.runelabs.io/v1/{endpoint}.csv'\n",
    "\n",
    "    elif env=='prod':\n",
    "        json_url = f'https://stream.runelabs.io/v1/{endpoint}.json'\n",
    "        csv_url = f'https://stream.runelabs.io/v1/{endpoint}.csv'\n",
    "    else:\n",
    "        raise ValueError('Unknown envinrontment')\n",
    "\n",
    "    json_params = params\n",
    "    availability_params = json_params | {'expression': f'availability({field_name})'}\n",
    "    response = requests.get(json_url, params=json_params, headers=headers)\n",
    "    availability_response = requests.get(json_url, params=availability_params, headers=headers)\n",
    "    print(f'{field_name}: \\n', response.json(), '\\n')\n",
    "    print(f'availability({field_name}): \\n', availability_response.json(), '\\n')\n",
    "\n",
    "    if extra:\n",
    "        for exp in ['first', 'mean', 'median', 'last']:\n",
    "            exp_params = json_params | {'expression': f'{exp}({field_name})'}\n",
    "            resp = requests.get(json_url, params=exp_params, headers=headers)\n",
    "            print(f'{exp}({field_name}):\\n', resp.json(), '\\n')\n",
    "\n",
    "    csv_params = {k:v for k,v in json_params.items() if k != 'partition_size'}\n",
    "    availability_csv_params = csv_params | {'expression': f'availability({field_name})'}\n",
    "    response = requests.get(csv_url, params=csv_params, headers=headers)\n",
    "    availability_response = requests.get(\n",
    "        csv_url, params=availability_csv_params, headers=headers)\n",
    "    print(f'{field_name}: \\n', response.text, '\\n')\n",
    "    print(f'availability({field_name}): \\n', availability_response.text, '\\n')\n",
    "\n",
    "\n",
    "    if extra:\n",
    "        for exp in ['first', 'mean', 'median', 'last']:\n",
    "            exp_params = csv_params | {'expression': f'{exp}({field_name})'}\n",
    "            resp = requests.get(csv_url, params=exp_params, headers=headers)\n",
    "            print(f'{exp}({field_name}):\\n', resp.text, '\\n')"
   ]
  },
  {
   "cell_type": "markdown",
   "id": "1c67b9d6",
   "metadata": {},
   "source": [
    "## Local"
   ]
  },
  {
   "cell_type": "markdown",
   "id": "7539c67f",
   "metadata": {},
   "source": [
    "#### v1/event.json"
   ]
  },
  {
   "cell_type": "code",
   "execution_count": null,
   "id": "4d5d2d4c",
   "metadata": {},
   "outputs": [],
   "source": [
    "params = {\n",
    "    'patient_id': 'dangerzonepatient', \n",
    "    'start_time': '1567566520',\n",
    "    'end_time': '1567566530',\n",
    "    'device_id': 'kp0ArnOK', #fake_percept\n",
    "    'event': 'clinical'\n",
    "}\n",
    "response = requests.get('http://localhost:8080/v1/event.json', params=params)"
   ]
  },
  {
   "cell_type": "markdown",
   "id": "3abff324",
   "metadata": {},
   "source": [
    "## Staging"
   ]
  },
  {
   "cell_type": "code",
   "execution_count": null,
   "id": "409cd7be",
   "metadata": {},
   "outputs": [],
   "source": [
    "config_path = '/Users/poorv/.rune/api-config-staging.yaml'\n",
    "with open(config_path) as f:\n",
    "    credentials = yaml.safe_load(f)\n",
    "    \n",
    "headers = {\n",
    "    'X-Rune-User-Access-Token-Id': credentials['access_token_id'],\n",
    "    'X-Rune-User-Access-Token-Secret': credentials['access_token_secret']\n",
    "}"
   ]
  },
  {
   "cell_type": "markdown",
   "id": "92ca7526",
   "metadata": {},
   "source": [
    "#### v1/band_power"
   ]
  },
  {
   "cell_type": "code",
   "execution_count": null,
   "id": "44a79349",
   "metadata": {},
   "outputs": [],
   "source": [
    "params = {\n",
    "    'patient_id': '1ce0cbb08eeb4986af2ee7d965e0f505',\n",
    "    'start_time': '1583357120',\n",
    "    'end_time': '1583366377',\n",
    "    'device_id': 'kp0ArnOK'\n",
    "}\n",
    "\n",
    "availability_params = params | {'expression': 'availability(power)'}\n",
    "response = requests.get('https://stream-staging.runelabs.io/v1/band_power.json',\n",
    "                        params=params, headers=headers)\n",
    "availability_response = requests.get('https://stream-staging.runelabs.io/v1/band_power.json', \n",
    "                                     params=availability_params, headers=headers)"
   ]
  },
  {
   "cell_type": "markdown",
   "id": "d770fda9",
   "metadata": {},
   "source": [
    "#### v1/probability_symptom"
   ]
  },
  {
   "cell_type": "code",
   "execution_count": null,
   "id": "595a21ac",
   "metadata": {},
   "outputs": [],
   "source": [
    "params = {\n",
    "    'device_id': 'kp0ArnOK',\n",
    "    'symptom': 'tremor',\n",
    "    'patient_id': '1ce0cbb08eeb4986af2ee7d965e0f505',\n",
    "    'start_time': '1586210745',\n",
    "    'end_time': '1586229747',\n",
    "    'resolution': '3000',\n",
    "    'partition_size': '288',\n",
    "    'timestamp': 'datetime',\n",
    "    'timezone': '-14400',\n",
    "    'severity': '*'\n",
    "}\n",
    "run_test_requests(params, headers, 'probability_symptom', 'probability')"
   ]
  },
  {
   "cell_type": "markdown",
   "id": "be350da5",
   "metadata": {},
   "source": [
    "## Production"
   ]
  },
  {
   "cell_type": "code",
   "execution_count": null,
   "id": "5bfe8780",
   "metadata": {},
   "outputs": [],
   "source": [
    "prod_config_path = '/Users/poorv/.rune/api-config-production.yaml'\n",
    "with open(prod_config_path) as f:\n",
    "    production_credentials = yaml.safe_load(f)\n",
    "    \n",
    "prod_headers = {\n",
    "    'X-Rune-User-Access-Token-Id': production_credentials['access_token_id'],\n",
    "    'X-Rune-User-Access-Token-Secret': production_credentials['access_token_secret']\n",
    "}"
   ]
  },
  {
   "cell_type": "markdown",
   "id": "3fbcd86c",
   "metadata": {},
   "source": [
    "#### v1/band_power"
   ]
  },
  {
   "cell_type": "code",
   "execution_count": null,
   "id": "41dc164c",
   "metadata": {},
   "outputs": [],
   "source": [
    "prod_params = {\n",
    "    'patient_id': '9c2ffb54dcab4d54a3dbd05770c2c1c5',\n",
    "    'start_time': '1583357120',\n",
    "    'end_time': '1583366377',\n",
    "    'device_id': '0uuQAj6X'\n",
    "}\n",
    "run_test_requests(prod_params, prod_headers, 'band_power', 'power', extra=False, env=\"prod\")"
   ]
  },
  {
   "cell_type": "code",
   "execution_count": null,
   "id": "872c3fda",
   "metadata": {},
   "outputs": [],
   "source": [
    "prod_params = {\n",
    "    'device_id': '0uuQAj6X',\n",
    "    'symptom': 'tremor',\n",
    "    'patient_id': '9c2ffb54dcab4d54a3dbd05770c2c1c5',\n",
    "    'start_time': '1586210745',\n",
    "    'end_time': '1586229747',\n",
    "    'resolution': '3000',\n",
    "    'partition_size': '288',\n",
    "    'timestamp': 'datetime',\n",
    "    'timezone': '-14400',\n",
    "    'severity': '*'\n",
    "}\n",
    "run_test_requests(prod_params, prod_headers, 'probability_symptom', 'probability', env='prod')"
   ]
  },
  {
   "cell_type": "code",
   "execution_count": null,
   "id": "d2360732",
   "metadata": {},
   "outputs": [],
   "source": []
  }
 ],
 "metadata": {
  "kernelspec": {
   "display_name": "Python 3",
   "language": "python",
   "name": "python3"
  },
  "language_info": {
   "codemirror_mode": {
    "name": "ipython",
    "version": 3
   },
   "file_extension": ".py",
   "mimetype": "text/x-python",
   "name": "python",
   "nbconvert_exporter": "python",
   "pygments_lexer": "ipython3",
   "version": "3.9.4"
  }
 },
 "nbformat": 4,
 "nbformat_minor": 5
}
